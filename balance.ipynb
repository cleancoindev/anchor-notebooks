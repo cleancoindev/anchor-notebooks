{
 "cells": [
  {
   "cell_type": "markdown",
   "metadata": {
    "collapsed": true,
    "pycharm": {
     "name": "#%% md\n"
    }
   },
   "source": [
    "Token balances"
   ]
  },
  {
   "cell_type": "code",
   "execution_count": 9,
   "outputs": [
    {
     "name": "stdout",
     "output_type": "stream",
     "text": [
      "{'anc': {'balance': '866132297110'}, 'anc_ust_lp': {'balance': '4939642105'}, 'aust': {'balance': '1577218936'}, 'beth': {'balance': '3988650'}, 'bluna': {'balance': '85782705'}, 'bluna_luna_lp': {'balance': '0'}, 'native_token_balances': {'Result': [{'Amount': '60642415', 'Denom': 'uluna'}, {'Amount': '4335836504', 'Denom': 'uusd'}]}}\n"
     ]
    }
   ],
   "source": [
    "from mantle import mantle\n",
    "from env import contract_address\n",
    "\n",
    "user_wallet_address = 'terra12hnhh5vtyg5juqnzm43970nh4fw42pt27nw9g9'\n",
    "\n",
    "query = \"\"\"\n",
    "query ($address: String!) {\n",
    "  native_token_balances: BankBalancesAddress(Address: $address) {\n",
    "    Result {\n",
    "      Denom\n",
    "      Amount\n",
    "    }\n",
    "  }\n",
    "}\n",
    "\"\"\"\n",
    "\n",
    "query_variables = {\n",
    "  'address': user_wallet_address\n",
    "}\n",
    "\n",
    "result = mantle(\n",
    "  query=query,\n",
    "  query_variables=query_variables,\n",
    "  wasm_query={\n",
    "    'aust': {\n",
    "      'contractAddress': contract_address['cw20']['aUST'],\n",
    "      'query': {\n",
    "        'balance': {\n",
    "          'address': user_wallet_address\n",
    "        }\n",
    "      }\n",
    "    },\n",
    "    'bluna': {\n",
    "      'contractAddress': contract_address['cw20']['bLuna'],\n",
    "      'query': {\n",
    "        'balance': {\n",
    "          'address': user_wallet_address\n",
    "        }\n",
    "      }\n",
    "    },\n",
    "    'beth': {\n",
    "      'contractAddress': contract_address['cw20']['bEth'],\n",
    "      'query': {\n",
    "        'balance': {\n",
    "          'address': user_wallet_address\n",
    "        }\n",
    "      }\n",
    "    },\n",
    "    'anc': {\n",
    "      'contractAddress': contract_address['cw20']['ANC'],\n",
    "      'query': {\n",
    "        'balance': {\n",
    "          'address': user_wallet_address\n",
    "        }\n",
    "      }\n",
    "    },\n",
    "    'anc_ust_lp': {\n",
    "      'contractAddress': contract_address['cw20']['AncUstLP'],\n",
    "      'query': {\n",
    "        'balance': {\n",
    "          'address': user_wallet_address\n",
    "        }\n",
    "      }\n",
    "    },\n",
    "    'bluna_luna_lp': {\n",
    "      'contractAddress': contract_address['cw20']['bLunaLunaLP'],\n",
    "      'query': {\n",
    "        'balance': {\n",
    "          'address': user_wallet_address\n",
    "        }\n",
    "      }\n",
    "    }\n",
    "  }\n",
    ")\n",
    "\n",
    "print(result)"
   ],
   "metadata": {
    "collapsed": false,
    "pycharm": {
     "name": "#%%\n"
    }
   }
  },
  {
   "cell_type": "code",
   "execution_count": 11,
   "outputs": [
    {
     "name": "stdout",
     "output_type": "stream",
     "text": [
      "ust 4335.836504\n",
      "luna 60.642415\n",
      "ust_balance 4335.836504\n",
      "luna_balance 60.642415\n",
      "aust_blance 1577.218936\n",
      "bluna_blance 85.782705\n",
      "beth_blance 3.98865\n",
      "anc_blance 866132.29711\n",
      "anc_ust_lp_blance 4939.642105\n",
      "bluna_luna_lp_blance 0.0\n"
     ]
    }
   ],
   "source": [
    "ust = next((item for item in result['native_token_balances']['Result'] if item['Denom'] == 'uusd'), None)\n",
    "luna = next((item for item in result['native_token_balances']['Result'] if item['Denom'] == 'uluna'), None)\n",
    "\n",
    "ust_balance = float(ust['Amount'])\n",
    "luna_balance = float(luna['Amount'])\n",
    "aust_blance = float(result['aust']['balance'])\n",
    "bluna_blance = float(result['bluna']['balance'])\n",
    "beth_blance = float(result['beth']['balance'])\n",
    "anc_blance = float(result['anc']['balance'])\n",
    "anc_ust_lp_blance = float(result['anc_ust_lp']['balance'])\n",
    "bluna_luna_lp_blance = float(result['bluna_luna_lp']['balance'])\n",
    "\n",
    "print('ust', ust_balance / 1000000.0)\n",
    "print('luna', luna_balance / 1000000.0)\n",
    "print('ust_balance', ust_balance / 1000000.0)\n",
    "print('luna_balance', luna_balance / 1000000.0)\n",
    "print('aust_blance', aust_blance / 1000000.0)\n",
    "print('bluna_blance', bluna_blance / 1000000.0)\n",
    "print('beth_blance', beth_blance / 1000000.0)\n",
    "print('anc_blance', anc_blance / 1000000.0)\n",
    "print('anc_ust_lp_blance', anc_ust_lp_blance / 1000000.0)\n",
    "print('bluna_luna_lp_blance', bluna_luna_lp_blance / 1000000.0)"
   ],
   "metadata": {
    "collapsed": false,
    "pycharm": {
     "name": "#%%\n"
    }
   }
  }
 ],
 "metadata": {
  "kernelspec": {
   "display_name": "Python 3",
   "language": "python",
   "name": "python3"
  },
  "language_info": {
   "codemirror_mode": {
    "name": "ipython",
    "version": 2
   },
   "file_extension": ".py",
   "mimetype": "text/x-python",
   "name": "python",
   "nbconvert_exporter": "python",
   "pygments_lexer": "ipython2",
   "version": "2.7.6"
  }
 },
 "nbformat": 4,
 "nbformat_minor": 0
}