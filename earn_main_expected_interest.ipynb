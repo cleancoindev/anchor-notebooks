{
 "cells": [
  {
   "cell_type": "markdown",
   "metadata": {
    "collapsed": true,
    "pycharm": {
     "name": "#%% md\n"
    }
   },
   "source": [
    "# Expected Interest"
   ]
  },
  {
   "cell_type": "code",
   "execution_count": 12,
   "outputs": [
    {
     "name": "stdout",
     "output_type": "stream",
     "text": [
      "{\n",
      "  \"aust_balance\": {\n",
      "    \"balance\": \"1577218936\"\n",
      "  },\n",
      "  \"money_market_epoch_state\": {\n",
      "    \"aterra_supply\": \"38055484190622\",\n",
      "    \"exchange_rate\": \"1.092681081452350497\"\n",
      "  },\n",
      "  \"overseer_epoch_state\": {\n",
      "    \"deposit_rate\": \"0.000000041752976853\",\n",
      "    \"last_executed_height\": 5383011,\n",
      "    \"prev_aterra_supply\": \"38055484190622\",\n",
      "    \"prev_exchange_rate\": \"1.092680997152996889\",\n",
      "    \"prev_interest_buffer\": \"3667107644403\"\n",
      "  }\n",
      "}\n"
     ]
    }
   ],
   "source": [
    "from mantle import mantle\n",
    "from env import *\n",
    "from ipynb.fs.defs.common_last_synced_height import last_synced_height\n",
    "from json import dumps\n",
    "\n",
    "def query_expected_interest(wallet_addr: str):\n",
    "  block_height = last_synced_height()\n",
    "\n",
    "  return mantle(\n",
    "    wasm_query={\n",
    "      'aust_balance': {\n",
    "        'contractAddress': cw20_aust_addr,\n",
    "        'query': {\n",
    "          'balance': {\n",
    "            'address': wallet_addr\n",
    "          }\n",
    "        }\n",
    "      },\n",
    "      'money_market_epoch_state': {\n",
    "        'contractAddress': moneymarket_market_addr,\n",
    "        'query': {\n",
    "          'epoch_state': {\n",
    "            'block_height': block_height\n",
    "          }\n",
    "        }\n",
    "      },\n",
    "      'overseer_epoch_state': {\n",
    "        'contractAddress': moneymarket_overseer_addr,\n",
    "        'query': {\n",
    "          'epoch_state': {}\n",
    "        }\n",
    "      }\n",
    "    }\n",
    "  )\n",
    "\n",
    "result = query_expected_interest('terra12hnhh5vtyg5juqnzm43970nh4fw42pt27nw9g9')\n",
    "\n",
    "print(dumps(result, indent=2))"
   ],
   "metadata": {
    "collapsed": false,
    "pycharm": {
     "name": "#%%\n"
    }
   }
  },
  {
   "cell_type": "code",
   "execution_count": 13,
   "outputs": [
    {
     "name": "stdout",
     "output_type": "stream",
     "text": [
      "total_deposit (in UST) 1723.3972926756055\n",
      "annualized_interest_rate 0.19443568013881893\n",
      "expected_interest (year) 335.08992475078054\n",
      "expected_interest (month) 27.924160395898376\n",
      "expected_interest (week) 6.444037014438087\n",
      "expected_interest (day) 0.9180545883583028\n"
     ]
    }
   ],
   "source": [
    "total_deposit = int(result['aust_balance']['balance']) * float(result['money_market_epoch_state']['exchange_rate'])\n",
    "annualized_interest_rate = float(result['overseer_epoch_state']['deposit_rate']) * blocks_per_year\n",
    "\n",
    "year = total_deposit * annualized_interest_rate\n",
    "month = total_deposit * annualized_interest_rate / 12\n",
    "week = total_deposit * annualized_interest_rate / 52\n",
    "day = total_deposit * annualized_interest_rate / 365\n",
    "\n",
    "print('total_deposit (in UST)', total_deposit / 1000000)\n",
    "print('annualized_interest_rate', annualized_interest_rate)\n",
    "print('expected_interest (year)', year / 1000000)\n",
    "print('expected_interest (month)', month / 1000000)\n",
    "print('expected_interest (week)', week / 1000000)\n",
    "print('expected_interest (day)', day / 1000000)"
   ],
   "metadata": {
    "collapsed": false,
    "pycharm": {
     "name": "#%%\n"
    }
   }
  }
 ],
 "metadata": {
  "kernelspec": {
   "display_name": "Python 3",
   "language": "python",
   "name": "python3"
  },
  "language_info": {
   "codemirror_mode": {
    "name": "ipython",
    "version": 2
   },
   "file_extension": ".py",
   "mimetype": "text/x-python",
   "name": "python",
   "nbconvert_exporter": "python",
   "pygments_lexer": "ipython2",
   "version": "2.7.6"
  }
 },
 "nbformat": 4,
 "nbformat_minor": 0
}