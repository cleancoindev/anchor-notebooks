{
 "cells": [
  {
   "cell_type": "markdown",
   "metadata": {
    "collapsed": true,
    "pycharm": {
     "name": "#%% md\n"
    }
   },
   "source": [
    "# Token balances"
   ]
  },
  {
   "cell_type": "code",
   "execution_count": 1,
   "outputs": [
    {
     "name": "stdout",
     "output_type": "stream",
     "text": [
      "{\n",
      "  \"anc\": {\n",
      "    \"balance\": \"904722838724\"\n",
      "  },\n",
      "  \"anc_ust_lp\": {\n",
      "    \"balance\": \"4939642105\"\n",
      "  },\n",
      "  \"aust\": {\n",
      "    \"balance\": \"1851463235\"\n",
      "  },\n",
      "  \"beth\": {\n",
      "    \"balance\": \"3988650\"\n",
      "  },\n",
      "  \"bluna\": {\n",
      "    \"balance\": \"87181795\"\n",
      "  },\n",
      "  \"bluna_luna_lp\": {\n",
      "    \"balance\": \"0\"\n",
      "  },\n",
      "  \"native_token_balances\": {\n",
      "    \"Result\": [\n",
      "      {\n",
      "        \"Amount\": \"60642415\",\n",
      "        \"Denom\": \"uluna\"\n",
      "      },\n",
      "      {\n",
      "        \"Amount\": \"324342335518\",\n",
      "        \"Denom\": \"uusd\"\n",
      "      }\n",
      "    ]\n",
      "  }\n",
      "}\n"
     ]
    }
   ],
   "source": [
    "from json import dumps\n",
    "\n",
    "from mantle import mantle\n",
    "\n",
    "from env import *\n",
    "\n",
    "\n",
    "def query_token_balances(wallet_addr: str):\n",
    "    query = \"\"\"\n",
    "      query ($address: String!) {\n",
    "        native_token_balances: BankBalancesAddress(Address: $address) {\n",
    "          Result {\n",
    "            Denom\n",
    "            Amount\n",
    "          }\n",
    "        }\n",
    "      }\n",
    "      \"\"\"\n",
    "\n",
    "    query_variables = {\n",
    "        'address': wallet_addr\n",
    "    }\n",
    "\n",
    "    return mantle(\n",
    "        query=query,\n",
    "        query_variables=query_variables,\n",
    "        wasm_query={\n",
    "            'aust': {\n",
    "                'contractAddress': cw20_aust_addr,\n",
    "                'query': {\n",
    "                    'balance': {\n",
    "                        'address': wallet_addr\n",
    "                    }\n",
    "                }\n",
    "            },\n",
    "            'bluna': {\n",
    "                'contractAddress': cw20_bluna_addr,\n",
    "                'query': {\n",
    "                    'balance': {\n",
    "                        'address': wallet_addr\n",
    "                    }\n",
    "                }\n",
    "            },\n",
    "            'beth': {\n",
    "                'contractAddress': cw20_beth_addr,\n",
    "                'query': {\n",
    "                    'balance': {\n",
    "                        'address': wallet_addr\n",
    "                    }\n",
    "                }\n",
    "            },\n",
    "            'anc': {\n",
    "                'contractAddress': cw20_anc_addr,\n",
    "                'query': {\n",
    "                    'balance': {\n",
    "                        'address': wallet_addr\n",
    "                    }\n",
    "                }\n",
    "            },\n",
    "            'anc_ust_lp': {\n",
    "                'contractAddress': lp_anc_ust_addr,\n",
    "                'query': {\n",
    "                    'balance': {\n",
    "                        'address': wallet_addr\n",
    "                    }\n",
    "                }\n",
    "            },\n",
    "            'bluna_luna_lp': {\n",
    "                'contractAddress': lp_bluna_luna_addr,\n",
    "                'query': {\n",
    "                    'balance': {\n",
    "                        'address': wallet_addr\n",
    "                    }\n",
    "                }\n",
    "            }\n",
    "        }\n",
    "    )\n",
    "\n",
    "\n",
    "print(dumps(query_token_balances('terra12hnhh5vtyg5juqnzm43970nh4fw42pt27nw9g9'), indent=2))"
   ],
   "metadata": {
    "collapsed": false,
    "pycharm": {
     "name": "#%%\n"
    }
   }
  },
  {
   "cell_type": "code",
   "execution_count": 2,
   "outputs": [
    {
     "name": "stdout",
     "output_type": "stream",
     "text": [
      "{\n",
      "  \"ust\": 324342335518,\n",
      "  \"luna\": 60642415,\n",
      "  \"aust\": 1851463235,\n",
      "  \"bluna\": 87181795,\n",
      "  \"beth\": 3988650,\n",
      "  \"anc\": 904722838724,\n",
      "  \"anc_ust_lp\": 4939642105,\n",
      "  \"bluna_luna_lp\": 0\n",
      "}\n"
     ]
    }
   ],
   "source": [
    "def get_token_balances(wallet_addr: str):\n",
    "    query_result = query_token_balances(wallet_addr)\n",
    "\n",
    "    return {\n",
    "        'ust': int(\n",
    "            next(\n",
    "                (item for item in query_result['native_token_balances']['Result'] if item['Denom'] == 'uusd'),\n",
    "                None\n",
    "            )['Amount']\n",
    "        ),\n",
    "        'luna': int(\n",
    "            next(\n",
    "                (item for item in query_result['native_token_balances']['Result'] if item['Denom'] == 'uluna'),\n",
    "                None\n",
    "            )['Amount']\n",
    "        ),\n",
    "        'aust': int(query_result['aust']['balance']),\n",
    "        'bluna': int(query_result['bluna']['balance']),\n",
    "        'beth': int(query_result['beth']['balance']),\n",
    "        'anc': int(query_result['anc']['balance']),\n",
    "        'anc_ust_lp': int(query_result['anc_ust_lp']['balance']),\n",
    "        'bluna_luna_lp': int(query_result['bluna_luna_lp']['balance'])\n",
    "    }\n",
    "\n",
    "\n",
    "print(dumps(get_token_balances('terra12hnhh5vtyg5juqnzm43970nh4fw42pt27nw9g9'), indent=2))"
   ],
   "metadata": {
    "collapsed": false,
    "pycharm": {
     "name": "#%%\n"
    }
   }
  },
  {
   "cell_type": "code",
   "execution_count": 3,
   "outputs": [
    {
     "name": "stdout",
     "output_type": "stream",
     "text": [
      "ust 324342.335518\n",
      "luna 60.642415\n",
      "ust_balance 324342.335518\n",
      "luna_balance 60.642415\n",
      "aust_blance 1851.463235\n",
      "bluna_blance 87.181795\n",
      "beth_blance 3.98865\n",
      "anc_blance 904722.838724\n",
      "anc_ust_lp_blance 4939.642105\n",
      "bluna_luna_lp_blance 0.0\n"
     ]
    }
   ],
   "source": [
    "balances = get_token_balances('terra12hnhh5vtyg5juqnzm43970nh4fw42pt27nw9g9')\n",
    "\n",
    "print('ust', balances['ust'] / 1000000.0)\n",
    "print('luna', balances['luna'] / 1000000.0)\n",
    "print('ust_balance', balances['ust'] / 1000000.0)\n",
    "print('luna_balance', balances['luna'] / 1000000.0)\n",
    "print('aust_blance', balances['aust'] / 1000000.0)\n",
    "print('bluna_blance', balances['bluna'] / 1000000.0)\n",
    "print('beth_blance', balances['beth'] / 1000000.0)\n",
    "print('anc_blance', balances['anc'] / 1000000.0)\n",
    "print('anc_ust_lp_blance', balances['anc_ust_lp'] / 1000000.0)\n",
    "print('bluna_luna_lp_blance', balances['bluna_luna_lp'] / 1000000.0)"
   ],
   "metadata": {
    "collapsed": false,
    "pycharm": {
     "name": "#%%\n"
    }
   }
  }
 ],
 "metadata": {
  "kernelspec": {
   "display_name": "Python 3",
   "language": "python",
   "name": "python3"
  },
  "language_info": {
   "codemirror_mode": {
    "name": "ipython",
    "version": 2
   },
   "file_extension": ".py",
   "mimetype": "text/x-python",
   "name": "python",
   "nbconvert_exporter": "python",
   "pygments_lexer": "ipython2",
   "version": "2.7.6"
  }
 },
 "nbformat": 4,
 "nbformat_minor": 0
}