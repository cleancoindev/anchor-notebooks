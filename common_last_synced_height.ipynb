{
 "cells": [
  {
   "cell_type": "code",
   "execution_count": 1,
   "metadata": {
    "collapsed": true
   },
   "outputs": [
    {
     "name": "stdout",
     "output_type": "stream",
     "text": [
      "last_synced_height 5381791\n"
     ]
    }
   ],
   "source": [
    "from mantle import mantle\n",
    "\n",
    "def last_synced_height():\n",
    "    result = mantle(\n",
    "        query=\"\"\"\n",
    "        query {\n",
    "          last_synced_height: LastSyncedHeight\n",
    "        }\n",
    "      \"\"\"\n",
    "    )\n",
    "\n",
    "    return result['last_synced_height']\n",
    "\n",
    "print('last_synced_height', last_synced_height())"
   ]
  }
 ],
 "metadata": {
  "kernelspec": {
   "display_name": "Python 3",
   "language": "python",
   "name": "python3"
  },
  "language_info": {
   "codemirror_mode": {
    "name": "ipython",
    "version": 2
   },
   "file_extension": ".py",
   "mimetype": "text/x-python",
   "name": "python",
   "nbconvert_exporter": "python",
   "pygments_lexer": "ipython2",
   "version": "2.7.6"
  }
 },
 "nbformat": 4,
 "nbformat_minor": 0
}