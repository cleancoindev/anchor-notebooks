{
 "cells": [
  {
   "cell_type": "markdown",
   "metadata": {
    "collapsed": true,
    "pycharm": {
     "name": "#%% md\n"
    }
   },
   "source": [
    "# Collateral Value"
   ]
  },
  {
   "cell_type": "code",
   "execution_count": 23,
   "outputs": [
    {
     "name": "stdout",
     "output_type": "stream",
     "text": [
      "{'oracle_prices': {'Ok': {'prices': [{'asset': 'terra19mkj9nec6e3y5754tlnuz4vem7lzh4n0lc2s3l', 'last_updated_time': 1627812593, 'price': '2605.69271193'}, {'asset': 'terra1u0t35drzyy0mujj8rkdyzhe264uls4ug3wdp3x', 'last_updated_time': 1627812598, 'price': '11.050451749127510659'}]}}, 'overseer_collaterals': {'borrower': 'terra12hnhh5vtyg5juqnzm43970nh4fw42pt27nw9g9', 'collaterals': [['terra19mkj9nec6e3y5754tlnuz4vem7lzh4n0lc2s3l', '11350'], ['terra1u0t35drzyy0mujj8rkdyzhe264uls4ug3wdp3x', '10000000']]}}\n"
     ]
    }
   ],
   "source": [
    "from mantle import mantle\n",
    "from env import contract_address\n",
    "import numpy as np\n",
    "\n",
    "user_wallet_address = 'terra12hnhh5vtyg5juqnzm43970nh4fw42pt27nw9g9'\n",
    "\n",
    "result = mantle(\n",
    "    wasm_query={\n",
    "    'overseer_collaterals': {\n",
    "      'contractAddress': contract_address['moneyMarket']['overseer'],\n",
    "      'query': {\n",
    "        'collaterals': {\n",
    "          'borrower': user_wallet_address\n",
    "        }\n",
    "      }\n",
    "    },\n",
    "    'oracle_prices': {\n",
    "      'contractAddress': contract_address['moneyMarket']['oracle'],\n",
    "      'query': {\n",
    "        'prices': {}\n",
    "      }\n",
    "    }\n",
    "  }\n",
    ")\n",
    "\n",
    "print(result)"
   ],
   "metadata": {
    "collapsed": false,
    "pycharm": {
     "name": "#%%\n"
    }
   }
  },
  {
   "cell_type": "code",
   "execution_count": 35,
   "outputs": [
    {
     "name": "stdout",
     "output_type": "stream",
     "text": [
      "collateral_address ['terra19mkj9nec6e3y5754tlnuz4vem7lzh4n0lc2s3l', 'terra1u0t35drzyy0mujj8rkdyzhe264uls4ug3wdp3x']\n",
      "locked_amounts [   11350. 10000000.]\n",
      "prices [2605.69271193   11.05045175]\n",
      "locked_amounts (in UST) [ 29.57461228 110.50451749]\n",
      "collateral_value (in UST) 140.0791297716806\n"
     ]
    }
   ],
   "source": [
    "if result['oracle_prices']['Ok'] is not None:\n",
    "  oracle_prices = result['oracle_prices']['Ok']['prices']\n",
    "else:\n",
    "  oracle_prices = result['oracle_prices']['prices']\n",
    "\n",
    "collateral_address = list(map(lambda oracle: oracle['asset'], oracle_prices))\n",
    "collaterals = result['overseer_collaterals']['collaterals']\n",
    "\n",
    "locked_amounts = []\n",
    "\n",
    "for address in collateral_address:\n",
    "  collateral = next((item for item in collaterals if item[0] == address), None)\n",
    "  if collateral is not None:\n",
    "    locked_amounts.append(float(collateral[1]))\n",
    "  else:\n",
    "    locked_amounts.append(0.0)\n",
    "\n",
    "prices = np.array(list(map(lambda oracle: float(oracle['price']), oracle_prices)))\n",
    "locked_amounts = np.array(locked_amounts)\n",
    "\n",
    "print('collateral_address', collateral_address)\n",
    "\n",
    "print('locked_amounts', locked_amounts)\n",
    "print('prices', prices)\n",
    "\n",
    "locked_amounts_in_ust = locked_amounts * prices\n",
    "collateral_value = np.sum(locked_amounts_in_ust)\n",
    "\n",
    "print('locked_amounts (in UST)', locked_amounts_in_ust / 1000000.0)\n",
    "print('collateral_value (in UST)', collateral_value / 1000000.0)"
   ],
   "metadata": {
    "collapsed": false,
    "pycharm": {
     "name": "#%%\n"
    }
   }
  }
 ],
 "metadata": {
  "kernelspec": {
   "display_name": "Python 3",
   "language": "python",
   "name": "python3"
  },
  "language_info": {
   "codemirror_mode": {
    "name": "ipython",
    "version": 2
   },
   "file_extension": ".py",
   "mimetype": "text/x-python",
   "name": "python",
   "nbconvert_exporter": "python",
   "pygments_lexer": "ipython2",
   "version": "2.7.6"
  }
 },
 "nbformat": 4,
 "nbformat_minor": 0
}