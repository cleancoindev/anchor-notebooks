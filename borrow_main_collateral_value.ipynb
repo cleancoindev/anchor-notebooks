{
 "cells": [
  {
   "cell_type": "markdown",
   "metadata": {
    "collapsed": true,
    "pycharm": {
     "name": "#%% md\n"
    }
   },
   "source": [
    "# Collateral Value"
   ]
  },
  {
   "cell_type": "code",
   "execution_count": 1,
   "outputs": [
    {
     "name": "stdout",
     "output_type": "stream",
     "text": [
      "{\n",
      "  \"oracle_prices\": {\n",
      "    \"Ok\": {\n",
      "      \"prices\": [\n",
      "        {\n",
      "          \"asset\": \"terra19mkj9nec6e3y5754tlnuz4vem7lzh4n0lc2s3l\",\n",
      "          \"last_updated_time\": 1629292926,\n",
      "          \"price\": \"3048.54667194\"\n",
      "        },\n",
      "        {\n",
      "          \"asset\": \"terra1u0t35drzyy0mujj8rkdyzhe264uls4ug3wdp3x\",\n",
      "          \"last_updated_time\": 1629292926,\n",
      "          \"price\": \"27.575353646269245937\"\n",
      "        }\n",
      "      ]\n",
      "    }\n",
      "  },\n",
      "  \"overseer_collaterals\": {\n",
      "    \"borrower\": \"terra12hnhh5vtyg5juqnzm43970nh4fw42pt27nw9g9\",\n",
      "    \"collaterals\": [\n",
      "      [\n",
      "        \"terra19mkj9nec6e3y5754tlnuz4vem7lzh4n0lc2s3l\",\n",
      "        \"11350\"\n",
      "      ],\n",
      "      [\n",
      "        \"terra1u0t35drzyy0mujj8rkdyzhe264uls4ug3wdp3x\",\n",
      "        \"8600910\"\n",
      "      ]\n",
      "    ]\n",
      "  }\n",
      "}\n"
     ]
    }
   ],
   "source": [
    "from mantle import mantle\n",
    "from env import *\n",
    "from numpy import array, sum\n",
    "from json import dumps\n",
    "\n",
    "user_wallet_address = 'terra12hnhh5vtyg5juqnzm43970nh4fw42pt27nw9g9'\n",
    "\n",
    "result = mantle(\n",
    "    wasm_query={\n",
    "        'overseer_collaterals': {\n",
    "            'contractAddress': moneymarket_overseer_addr,\n",
    "            'query': {\n",
    "                'collaterals': {\n",
    "                    'borrower': user_wallet_address\n",
    "                }\n",
    "            }\n",
    "        },\n",
    "        'oracle_prices': {\n",
    "            'contractAddress': moneymarket_oracle_addr,\n",
    "            'query': {\n",
    "                'prices': {}\n",
    "            }\n",
    "        }\n",
    "    }\n",
    ")\n",
    "\n",
    "print(dumps(result, indent=2))"
   ],
   "metadata": {
    "collapsed": false,
    "pycharm": {
     "name": "#%%\n"
    }
   }
  },
  {
   "cell_type": "code",
   "execution_count": 2,
   "outputs": [
    {
     "name": "stdout",
     "output_type": "stream",
     "text": [
      "collateral_address ['terra19mkj9nec6e3y5754tlnuz4vem7lzh4n0lc2s3l', 'terra1u0t35drzyy0mujj8rkdyzhe264uls4ug3wdp3x']\n",
      "locked_amounts [  11350. 8600910.]\n",
      "prices [3048.54667194   27.57535365]\n",
      "locked_amounts (in UST) [ 34.60100473 237.17313493]\n",
      "collateral_value (in UST) 271.7741396562526\n",
      "collateral_value (in UST) 271.7741396562526\n"
     ]
    }
   ],
   "source": [
    "def strip_oracle_prices(oracle_prices):\n",
    "    if oracle_prices['Ok'] is not None:\n",
    "        return oracle_prices['Ok']['prices']\n",
    "    else:\n",
    "        return oracle_prices['prices']\n",
    "\n",
    "def collaterals_total_value(overseer_collaterals, oracle_prices):\n",
    "    oracle_prices = strip_oracle_prices(oracle_prices)\n",
    "\n",
    "    collateral_address = list(map(lambda oracle: oracle['asset'], oracle_prices))\n",
    "    collaterals = overseer_collaterals['collaterals']\n",
    "\n",
    "    locked_amounts = []\n",
    "\n",
    "    for address in collateral_address:\n",
    "        collateral = next((item for item in collaterals if item[0] == address), None)\n",
    "        if collateral is not None:\n",
    "            locked_amounts.append(float(collateral[1]))\n",
    "        else:\n",
    "            locked_amounts.append(0.0)\n",
    "\n",
    "    prices = array(list(map(lambda oracle: float(oracle['price']), oracle_prices)))\n",
    "    locked_amounts = array(locked_amounts)\n",
    "\n",
    "    print('collateral_address', collateral_address)\n",
    "\n",
    "    print('locked_amounts', locked_amounts)\n",
    "    print('prices', prices)\n",
    "\n",
    "    locked_amounts_in_ust = locked_amounts * prices\n",
    "    collateral_value = sum(locked_amounts_in_ust)\n",
    "\n",
    "    print('locked_amounts (in UST)', locked_amounts_in_ust / 1000000.0)\n",
    "    print('collateral_value (in UST)', collateral_value / 1000000.0)\n",
    "\n",
    "    return collateral_value\n",
    "\n",
    "\n",
    "print(\n",
    "    'collateral_value (in UST)',\n",
    "    collaterals_total_value(result['overseer_collaterals'], result['oracle_prices']) / 1000000\n",
    ")\n"
   ],
   "metadata": {
    "collapsed": false,
    "pycharm": {
     "name": "#%%\n"
    }
   }
  }
 ],
 "metadata": {
  "kernelspec": {
   "display_name": "Python 3",
   "language": "python",
   "name": "python3"
  },
  "language_info": {
   "codemirror_mode": {
    "name": "ipython",
    "version": 2
   },
   "file_extension": ".py",
   "mimetype": "text/x-python",
   "name": "python",
   "nbconvert_exporter": "python",
   "pygments_lexer": "ipython2",
   "version": "2.7.6"
  }
 },
 "nbformat": 4,
 "nbformat_minor": 0
}