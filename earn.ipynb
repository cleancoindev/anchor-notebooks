{
 "cells": [
  {
   "cell_type": "markdown",
   "source": [
    "# Total Deposit"
   ],
   "metadata": {}
  },
  {
   "cell_type": "code",
   "execution_count": 6,
   "source": [
    "from mantle import mantle\n",
    "from env import contract_address\n",
    "from queries.last_synced_height import last_synced_height\n",
    "\n",
    "user_wallet_address = 'terra12hnhh5vtyg5juqnzm43970nh4fw42pt27nw9g9'\n",
    "\n",
    "block_height = last_synced_height()\n",
    "\n",
    "result = mantle(\n",
    "  wasm_query={\n",
    "    'aust_balance': {\n",
    "      'contractAddress': contract_address['cw20']['aUST'],\n",
    "      'query': {\n",
    "        'balance': {\n",
    "          'address': user_wallet_address\n",
    "        }\n",
    "      }\n",
    "    },\n",
    "    'money_market_epoch_state': {\n",
    "      'contractAddress': contract_address['moneyMarket']['market'],\n",
    "      'query': {\n",
    "        'epoch_state': {\n",
    "          'block_height': block_height\n",
    "        }\n",
    "      }\n",
    "    }\n",
    "  }\n",
    ")\n",
    "\n",
    "print(result)"
   ],
   "outputs": [
    {
     "name": "stdout",
     "output_type": "stream",
     "text": [
      "{'aust_balance': {'balance': '1577218936'}, 'money_market_epoch_state': {'aterra_supply': '36716921034480', 'exchange_rate': '1.082932004024128632'}}\n"
     ]
    }
   ],
   "metadata": {}
  },
  {
   "cell_type": "code",
   "execution_count": 7,
   "source": [
    "uaust = float(result['aust_balance']['balance'])\n",
    "# exchange_rate is \n",
    "exchange_rate = float(result['money_market_epoch_state']['exchange_rate'])\n",
    "\n",
    "total_deposit = uaust * exchange_rate\n",
    "\n",
    "print('total_deposit (in UST)', total_deposit / 1000000.0)"
   ],
   "outputs": [
    {
     "name": "stdout",
     "output_type": "stream",
     "text": [
      "total_deposit (in UST) 1708.0208631472838\n"
     ]
    }
   ],
   "metadata": {}
  },
  {
   "cell_type": "markdown",
   "source": [
    "# Current APY"
   ],
   "metadata": {}
  },
  {
   "cell_type": "code",
   "execution_count": 8,
   "source": [
    "result = mantle(\n",
    "  wasm_query={\n",
    "    'overseer_epoch_state': {\n",
    "      'contractAddress': contract_address['moneyMarket']['overseer'],\n",
    "      'query': {\n",
    "        'epoch_state': {}\n",
    "      }\n",
    "    }\n",
    "  }\n",
    ")\n",
    "\n",
    "print(result)"
   ],
   "outputs": [
    {
     "name": "stdout",
     "output_type": "stream",
     "text": [
      "{'overseer_epoch_state': {'deposit_rate': '0.000000041773928615', 'last_executed_height': 5168430, 'prev_aterra_supply': '36716921034480', 'prev_exchange_rate': '1.082931886767526457', 'prev_interest_buffer': '3524216459913'}}\n"
     ]
    }
   ],
   "metadata": {}
  },
  {
   "cell_type": "code",
   "execution_count": 9,
   "source": [
    "blocks_per_year = 4656810.0 # constant\n",
    "deposit_rate = float(result['overseer_epoch_state']['deposit_rate'])\n",
    "\n",
    "current_apy = deposit_rate * blocks_per_year\n",
    "\n",
    "print('current_apy', current_apy * 100.0)"
   ],
   "outputs": [
    {
     "name": "stdout",
     "output_type": "stream",
     "text": [
      "current_apy 19.453324851361817\n"
     ]
    }
   ],
   "metadata": {}
  },
  {
   "cell_type": "markdown",
   "source": [
    "# Interest (APY History line chart)\n",
    "\n",
    "TODO"
   ],
   "metadata": {}
  },
  {
   "cell_type": "markdown",
   "source": [
    "# Expected Interest\n",
    "\n",
    "TODO"
   ],
   "metadata": {}
  }
 ],
 "metadata": {
  "orig_nbformat": 4,
  "language_info": {
   "name": "python",
   "version": "3.9.6",
   "mimetype": "text/x-python",
   "codemirror_mode": {
    "name": "ipython",
    "version": 3
   },
   "pygments_lexer": "ipython3",
   "nbconvert_exporter": "python",
   "file_extension": ".py"
  },
  "kernelspec": {
   "name": "python3",
   "language": "python",
   "display_name": "Python 3 (ipykernel)"
  },
  "interpreter": {
   "hash": "aee8b7b246df8f9039afb4144a1f6fd8d2ca17a180786b69acc140d282b71a49"
  }
 },
 "nbformat": 4,
 "nbformat_minor": 2
}