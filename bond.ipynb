{
 "cells": [
  {
   "cell_type": "markdown",
   "source": [
    "# bLUNA Whitelisted Validators"
   ],
   "metadata": {}
  },
  {
   "cell_type": "code",
   "execution_count": 13,
   "source": [
    "from mantle import mantle\n",
    "from env import contract_address\n",
    "\n",
    "# language=graphql\n",
    "query = \"\"\"\n",
    "query {\n",
    "  validators: StakingValidators {\n",
    "    Result {\n",
    "      OperatorAddress\n",
    "      Description {\n",
    "        Moniker\n",
    "      }\n",
    "    }\n",
    "  }\n",
    "}\n",
    "\"\"\"\n",
    "\n",
    "result = mantle(\n",
    "  query=query,\n",
    "  wasm_query={\n",
    "    'whitelisted_validators': {\n",
    "      'contractAddress': contract_address['bluna']['hub'],\n",
    "      'query': {\n",
    "        'whitelisted_validators': {}\n",
    "      }\n",
    "    }\n",
    "  }\n",
    ")\n",
    "\n",
    "print(result)"
   ],
   "outputs": [
    {
     "name": "stdout",
     "output_type": "stream",
     "text": [
      "{'validators': {'Result': [{'Description': {'Moniker': 'BTC.Secure'}, 'OperatorAddress': 'terravaloper1qxqrtvg3smlfdfhvwcdzh0huh4f50kfs6gdt4x'}, {'Description': {'Moniker': 'RockX'}, 'OperatorAddress': 'terravaloper1pr6pwyjqjxvx0axaqt56a4g3wukacg2jd8n00l'}, {'Description': {'Moniker': 'MoonletWallet'}, 'OperatorAddress': 'terravaloper1p3rgf35lhvwu9culc33l3d2ys756dwarurra29'}, {'Description': {'Moniker': 'BlockNgine'}, 'OperatorAddress': 'terravaloper1ze5dxzs4zcm60tg48m9unp8eh7maerma38dl84'}, {'Description': {'Moniker': 'flipside-testnet'}, 'OperatorAddress': 'terravaloper1ry7vkte2zt2l7hd0qfavl9wpkl0xnn69ytdvv6'}, {'Description': {'Moniker': 'Craig'}, 'OperatorAddress': 'terravaloper1redhu5f9lz57mzmh409mcyc745wwdcvpfsmmcw'}, {'Description': {'Moniker': 'Luna Station 88'}, 'OperatorAddress': 'terravaloper1yx5f34ka5f4nqhh9yw85m4fmmtklr6r69558w5'}, {'Description': {'Moniker': 'wenis69'}, 'OperatorAddress': 'terravaloper1ytk8f78hem2avpuwqcf5rfacuaem66cz8ssnst'}, {'Description': {'Moniker': 'Heavy Metal Finland'}, 'OperatorAddress': 'terravaloper1yhcs4ympvnssh0p959quh3u5z36qcqanssxm5u'}, {'Description': {'Moniker': 'Terra-India'}, 'OperatorAddress': 'terravaloper19ne0aqltndwxl0n32zyuglp2z8mm3nu0gxpfaw'}, {'Description': {'Moniker': 'Bit Cat'}, 'OperatorAddress': 'terravaloper1xynrfr4uapxyq04ysnl0r6gvnxllmc0tydp737'}, {'Description': {'Moniker': 'Sarah Kerrigan'}, 'OperatorAddress': 'terravaloper18qnkkxtcyls59g6ujaxddyzqtn0latzg8398ea'}, {'Description': {'Moniker': 'SolidStake'}, 'OperatorAddress': 'terravaloper18t8mtyvxlxf2gjh4x5r06gjfg0nk6gqs974uxh'}, {'Description': {'Moniker': 'syncnode'}, 'OperatorAddress': 'terravaloper18d4583vc6zex4tay9z59gj4llgsmnunxc5u606'}, {'Description': {'Moniker': 'Ios'}, 'OperatorAddress': 'terravaloper185vuqpdgrgwn7g07pc04x9rsa9y9n7n09kees3'}, {'Description': {'Moniker': 'OneStar'}, 'OperatorAddress': 'terravaloper18hpew39uymssr52w8euxqh4zrrjt02x7k0jmhk'}, {'Description': {'Moniker': 'stake.systems'}, 'OperatorAddress': 'terravaloper1gft6czpkya78ld909gwkdp8um3uu8ns8ra6d9a'}, {'Description': {'Moniker': 'Cosmic Validator'}, 'OperatorAddress': 'terravaloper1gtjjcll5wywptctrg8e648sfnjj398qxq9nmke'}, {'Description': {'Moniker': 'StakeSabai'}, 'OperatorAddress': 'terravaloper1g6g0v23c6tv75ygk5za4s2ewwestdfj0k2cy2x'}, {'Description': {'Moniker': 'blockscape'}, 'OperatorAddress': 'terravaloper1280lkze9a5yyla2wngfkqqtqnkv5xw4tnpngxr'}, {'Description': {'Moniker': 'moonshot'}, 'OperatorAddress': 'terravaloper12fktk3ruh8dttgntxemda5vq79g85gg399j3wd'}, {'Description': {'Moniker': 'TerraDactyl'}, 'OperatorAddress': 'terravaloper12ways9arhjuemljavkuvlg2mkavh9sr432tcv4'}, {'Description': {'Moniker': 'Synergy Nodes - Glory'}, 'OperatorAddress': 'terravaloper12jpzzmwthrljcvm48adncspxtchazkl8vah7u4'}, {'Description': {'Moniker': 'Go-Terra'}, 'OperatorAddress': 'terravaloper12mcn4pj7d8yeff0xfedcthqe9gs3vwc2tn8sy2'}, {'Description': {'Moniker': 'stake.zone'}, 'OperatorAddress': 'terravaloper1trpe7wpt2297qasylcgz7ruh09pds4vy0ftgnk'}, {'Description': {'Moniker': '0base.vc'}, 'OperatorAddress': 'terravaloper1thuj2a8sgtxr7z3gr39egng3syqqwas4hmvvlg'}, {'Description': {'Moniker': 'healings'}, 'OperatorAddress': 'terravaloper1t70zu4qex9uyxf3xcwnk67sapw39n6v0glcqxt'}, {'Description': {'Moniker': 'DokiaCapital'}, 'OperatorAddress': 'terravaloper1vze7n65ccq08auu2xwmptlymu3gdlx0z5j033m'}, {'Description': {'Moniker': 'node0'}, 'OperatorAddress': 'terravaloper1vk20anceu6h9s00d27pjlvslz3avetkvnwmr35'}, {'Description': {'Moniker': 'FreshLUNA'}, 'OperatorAddress': 'terravaloper1dpwua2fap4qf4ztnmasr5an3sm9xhjzyv49qql'}, {'Description': {'Moniker': 'Easy 2 Stake'}, 'OperatorAddress': 'terravaloper1dyljpg8zyre4jsv5quk3d24vkqrlyv6zw7keur'}, {'Description': {'Moniker': 'Cives lunares'}, 'OperatorAddress': 'terravaloper1d3fv2cjukt0e6lrzd8d857jatlkht7wcp85zar'}, {'Description': {'Moniker': 'Terra Bites'}, 'OperatorAddress': 'terravaloper1d3jscm77t4du8x0qczw6rkwemwwp4mlv98u9rk'}, {'Description': {'Moniker': 'TERRA-FIRMA'}, 'OperatorAddress': 'terravaloper1d4cfnc637k94hphegd7qv2rcgl50tqzc27a3h5'}, {'Description': {'Moniker': 'max48'}, 'OperatorAddress': 'terravaloper1wx7sjqjzcxzegk4tfyf3hradg02nvdug7cfvng'}, {'Description': {'Moniker': 'Stakin'}, 'OperatorAddress': 'terravaloper10ja74nnrfpxu6allycnk7y2hcy0njefjqkhjdd'}, {'Description': {'Moniker': 'Genesis Lab'}, 'OperatorAddress': 'terravaloper10lk5rrz3srq28ap6x68c9hs86zvvtpm0jkn5qh'}, {'Description': {'Moniker': 'MCF'}, 'OperatorAddress': 'terravaloper1suajquk09k9d0upnexlydhurc5t9uh4rn4k0wd'}, {'Description': {'Moniker': 'everstakeone'}, 'OperatorAddress': 'terravaloper13g7z3qq6f00qww3u4mpcs3xw5jhqwraswraapc'}, {'Description': {'Moniker': 'Bison Trails'}, 'OperatorAddress': 'terravaloper13wtzq6lv0g2v0kee7w9akmcfq3dsdja633wyeg'}, {'Description': {'Moniker': 'kytzu'}, 'OperatorAddress': 'terravaloper13mql7xeyfe3v8m9v409jg3wnnh2qlkgsl9dw5s'}, {'Description': {'Moniker': 'Masternode24.de'}, 'OperatorAddress': 'terravaloper1n9jrtnz57zupejzhu4v0uth9ax5fktdenxy8hm'}, {'Description': {'Moniker': 'wave'}, 'OperatorAddress': 'terravaloper1n0cdzvftzhq2yguwwthuuhfj0m3z2jxeznktpj'}, {'Description': {'Moniker': 'Accomplice Blockchain'}, 'OperatorAddress': 'terravaloper15fl0fcnzreazj50x25rvyvr0rtn0nq2n742cxm'}, {'Description': {'Moniker': 'Crypto Plant'}, 'OperatorAddress': 'terravaloper149hh2rvf3ye52ezwslrx9r6qaxryh7snvxrwdd'}, {'Description': {'Moniker': '8moon'}, 'OperatorAddress': 'terravaloper14k2yld7wmlaktu6jn49rym42yvy4n5lnn8dxsn'}, {'Description': {'Moniker': 'Staking Fund'}, 'OperatorAddress': 'terravaloper14un92kpq0pvflyjd8sxmrsswglhn8mf5hkruc2'}, {'Description': {'Moniker': 'Terran.one'}, 'OperatorAddress': 'terravaloper1krj7amhhagjnyg2tkkuh6l0550y733jnjnnlzy'}, {'Description': {'Moniker': 'Un Fuego'}, 'OperatorAddress': 'terravaloper1h80ltxwyhsh24jx5hw9z6ep35n2zyy97ezagrn'}, {'Description': {'Moniker': 'Inotel'}, 'OperatorAddress': 'terravaloper1h2nptg7rk5jjrhqnylhy7yvmanhnl3e5lztft4'}, {'Description': {'Moniker': 'block42'}, 'OperatorAddress': 'terravaloper1cvgjcp6fgkx4lzgu2csvqs0krak8kuw08y8gju'}, {'Description': {'Moniker': 'Luna Orbit TN'}, 'OperatorAddress': 'terravaloper1c0nue9ggs677fdxwr87lrc38uu38uwlkpxfauc'}, {'Description': {'Moniker': 'GalaxyDigital'}, 'OperatorAddress': 'terravaloper1ex5f52p8zrtp8scypn0l40qr2yd2w6wzv3r28g'}, {'Description': {'Moniker': 'ChainLayer'}, 'OperatorAddress': 'terravaloper1e4maqhd9uptu0hepx34xt6hje930m6k8j34q6f'}, {'Description': {'Moniker': 'Legend.X'}, 'OperatorAddress': 'terravaloper1eluygmg7nr2n5zargzkx2c88mxj2nctlaq25kz'}, {'Description': {'Moniker': 'StakeWithUs'}, 'OperatorAddress': 'terravaloper1605wepehf6mqakxaxxggy4mzv2jfgnm22yslhv'}, {'Description': {'Moniker': 'terraforming'}, 'OperatorAddress': 'terravaloper165xv35n42lt75tdvcvddgz923hstu8x9fy9px7'}, {'Description': {'Moniker': 'staked-test'}, 'OperatorAddress': 'terravaloper16esu0x30mrhhu46yz945h9m5qy9usqkapfkzrt'}, {'Description': {'Moniker': 'Forbole'}, 'OperatorAddress': 'terravaloper1u40zfjrzvkqqxyksvwsrg9vp80p8a5zskumz3y'}, {'Description': {'Moniker': 'B-Harvest'}, 'OperatorAddress': 'terravaloper17qy25m5v2j42ye880n3xk2exz5tedsfe4p8w3c'}, {'Description': {'Moniker': 'Stakely.io'}, 'OperatorAddress': 'terravaloper177hn4lnsk2gckff09hcdqxwmqpk98g639lwfys'}, {'Description': {'Moniker': 'Terran Stakers'}, 'OperatorAddress': 'terravaloper1lpdm6chq5hn85rxgwk499qa0wh8jpxvmswajex'}, {'Description': {'Moniker': 'DSRV'}, 'OperatorAddress': 'terravaloper1lt73jjl7v2cx3d70hnh59ta0uujyyrkhd2ardz'}]}, 'whitelisted_validators': {'validators': ['terravaloper1krj7amhhagjnyg2tkkuh6l0550y733jnjnnlzy', 'terravaloper1vk20anceu6h9s00d27pjlvslz3avetkvnwmr35']}}\n"
     ]
    }
   ],
   "metadata": {
    "pycharm": {
     "name": "#%%\n"
    }
   }
  },
  {
   "cell_type": "code",
   "execution_count": 14,
   "outputs": [
    {
     "name": "stdout",
     "output_type": "stream",
     "text": [
      "bluna validators [{'Description': {'Moniker': 'BTC.Secure'}, 'OperatorAddress': 'terravaloper1qxqrtvg3smlfdfhvwcdzh0huh4f50kfs6gdt4x'}, {'Description': {'Moniker': 'RockX'}, 'OperatorAddress': 'terravaloper1pr6pwyjqjxvx0axaqt56a4g3wukacg2jd8n00l'}, {'Description': {'Moniker': 'MoonletWallet'}, 'OperatorAddress': 'terravaloper1p3rgf35lhvwu9culc33l3d2ys756dwarurra29'}, {'Description': {'Moniker': 'BlockNgine'}, 'OperatorAddress': 'terravaloper1ze5dxzs4zcm60tg48m9unp8eh7maerma38dl84'}, {'Description': {'Moniker': 'flipside-testnet'}, 'OperatorAddress': 'terravaloper1ry7vkte2zt2l7hd0qfavl9wpkl0xnn69ytdvv6'}, {'Description': {'Moniker': 'Craig'}, 'OperatorAddress': 'terravaloper1redhu5f9lz57mzmh409mcyc745wwdcvpfsmmcw'}, {'Description': {'Moniker': 'Luna Station 88'}, 'OperatorAddress': 'terravaloper1yx5f34ka5f4nqhh9yw85m4fmmtklr6r69558w5'}, {'Description': {'Moniker': 'wenis69'}, 'OperatorAddress': 'terravaloper1ytk8f78hem2avpuwqcf5rfacuaem66cz8ssnst'}, {'Description': {'Moniker': 'Heavy Metal Finland'}, 'OperatorAddress': 'terravaloper1yhcs4ympvnssh0p959quh3u5z36qcqanssxm5u'}, {'Description': {'Moniker': 'Terra-India'}, 'OperatorAddress': 'terravaloper19ne0aqltndwxl0n32zyuglp2z8mm3nu0gxpfaw'}, {'Description': {'Moniker': 'Bit Cat'}, 'OperatorAddress': 'terravaloper1xynrfr4uapxyq04ysnl0r6gvnxllmc0tydp737'}, {'Description': {'Moniker': 'Sarah Kerrigan'}, 'OperatorAddress': 'terravaloper18qnkkxtcyls59g6ujaxddyzqtn0latzg8398ea'}, {'Description': {'Moniker': 'SolidStake'}, 'OperatorAddress': 'terravaloper18t8mtyvxlxf2gjh4x5r06gjfg0nk6gqs974uxh'}, {'Description': {'Moniker': 'syncnode'}, 'OperatorAddress': 'terravaloper18d4583vc6zex4tay9z59gj4llgsmnunxc5u606'}, {'Description': {'Moniker': 'Ios'}, 'OperatorAddress': 'terravaloper185vuqpdgrgwn7g07pc04x9rsa9y9n7n09kees3'}, {'Description': {'Moniker': 'OneStar'}, 'OperatorAddress': 'terravaloper18hpew39uymssr52w8euxqh4zrrjt02x7k0jmhk'}, {'Description': {'Moniker': 'stake.systems'}, 'OperatorAddress': 'terravaloper1gft6czpkya78ld909gwkdp8um3uu8ns8ra6d9a'}, {'Description': {'Moniker': 'Cosmic Validator'}, 'OperatorAddress': 'terravaloper1gtjjcll5wywptctrg8e648sfnjj398qxq9nmke'}, {'Description': {'Moniker': 'StakeSabai'}, 'OperatorAddress': 'terravaloper1g6g0v23c6tv75ygk5za4s2ewwestdfj0k2cy2x'}, {'Description': {'Moniker': 'blockscape'}, 'OperatorAddress': 'terravaloper1280lkze9a5yyla2wngfkqqtqnkv5xw4tnpngxr'}, {'Description': {'Moniker': 'moonshot'}, 'OperatorAddress': 'terravaloper12fktk3ruh8dttgntxemda5vq79g85gg399j3wd'}, {'Description': {'Moniker': 'TerraDactyl'}, 'OperatorAddress': 'terravaloper12ways9arhjuemljavkuvlg2mkavh9sr432tcv4'}, {'Description': {'Moniker': 'Synergy Nodes - Glory'}, 'OperatorAddress': 'terravaloper12jpzzmwthrljcvm48adncspxtchazkl8vah7u4'}, {'Description': {'Moniker': 'Go-Terra'}, 'OperatorAddress': 'terravaloper12mcn4pj7d8yeff0xfedcthqe9gs3vwc2tn8sy2'}, {'Description': {'Moniker': 'stake.zone'}, 'OperatorAddress': 'terravaloper1trpe7wpt2297qasylcgz7ruh09pds4vy0ftgnk'}, {'Description': {'Moniker': '0base.vc'}, 'OperatorAddress': 'terravaloper1thuj2a8sgtxr7z3gr39egng3syqqwas4hmvvlg'}, {'Description': {'Moniker': 'healings'}, 'OperatorAddress': 'terravaloper1t70zu4qex9uyxf3xcwnk67sapw39n6v0glcqxt'}, {'Description': {'Moniker': 'DokiaCapital'}, 'OperatorAddress': 'terravaloper1vze7n65ccq08auu2xwmptlymu3gdlx0z5j033m'}, {'Description': {'Moniker': 'node0'}, 'OperatorAddress': 'terravaloper1vk20anceu6h9s00d27pjlvslz3avetkvnwmr35'}, {'Description': {'Moniker': 'FreshLUNA'}, 'OperatorAddress': 'terravaloper1dpwua2fap4qf4ztnmasr5an3sm9xhjzyv49qql'}, {'Description': {'Moniker': 'Easy 2 Stake'}, 'OperatorAddress': 'terravaloper1dyljpg8zyre4jsv5quk3d24vkqrlyv6zw7keur'}, {'Description': {'Moniker': 'Cives lunares'}, 'OperatorAddress': 'terravaloper1d3fv2cjukt0e6lrzd8d857jatlkht7wcp85zar'}, {'Description': {'Moniker': 'Terra Bites'}, 'OperatorAddress': 'terravaloper1d3jscm77t4du8x0qczw6rkwemwwp4mlv98u9rk'}, {'Description': {'Moniker': 'TERRA-FIRMA'}, 'OperatorAddress': 'terravaloper1d4cfnc637k94hphegd7qv2rcgl50tqzc27a3h5'}, {'Description': {'Moniker': 'max48'}, 'OperatorAddress': 'terravaloper1wx7sjqjzcxzegk4tfyf3hradg02nvdug7cfvng'}, {'Description': {'Moniker': 'Stakin'}, 'OperatorAddress': 'terravaloper10ja74nnrfpxu6allycnk7y2hcy0njefjqkhjdd'}, {'Description': {'Moniker': 'Genesis Lab'}, 'OperatorAddress': 'terravaloper10lk5rrz3srq28ap6x68c9hs86zvvtpm0jkn5qh'}, {'Description': {'Moniker': 'MCF'}, 'OperatorAddress': 'terravaloper1suajquk09k9d0upnexlydhurc5t9uh4rn4k0wd'}, {'Description': {'Moniker': 'everstakeone'}, 'OperatorAddress': 'terravaloper13g7z3qq6f00qww3u4mpcs3xw5jhqwraswraapc'}, {'Description': {'Moniker': 'Bison Trails'}, 'OperatorAddress': 'terravaloper13wtzq6lv0g2v0kee7w9akmcfq3dsdja633wyeg'}, {'Description': {'Moniker': 'kytzu'}, 'OperatorAddress': 'terravaloper13mql7xeyfe3v8m9v409jg3wnnh2qlkgsl9dw5s'}, {'Description': {'Moniker': 'Masternode24.de'}, 'OperatorAddress': 'terravaloper1n9jrtnz57zupejzhu4v0uth9ax5fktdenxy8hm'}, {'Description': {'Moniker': 'wave'}, 'OperatorAddress': 'terravaloper1n0cdzvftzhq2yguwwthuuhfj0m3z2jxeznktpj'}, {'Description': {'Moniker': 'Accomplice Blockchain'}, 'OperatorAddress': 'terravaloper15fl0fcnzreazj50x25rvyvr0rtn0nq2n742cxm'}, {'Description': {'Moniker': 'Crypto Plant'}, 'OperatorAddress': 'terravaloper149hh2rvf3ye52ezwslrx9r6qaxryh7snvxrwdd'}, {'Description': {'Moniker': '8moon'}, 'OperatorAddress': 'terravaloper14k2yld7wmlaktu6jn49rym42yvy4n5lnn8dxsn'}, {'Description': {'Moniker': 'Staking Fund'}, 'OperatorAddress': 'terravaloper14un92kpq0pvflyjd8sxmrsswglhn8mf5hkruc2'}, {'Description': {'Moniker': 'Terran.one'}, 'OperatorAddress': 'terravaloper1krj7amhhagjnyg2tkkuh6l0550y733jnjnnlzy'}, {'Description': {'Moniker': 'Un Fuego'}, 'OperatorAddress': 'terravaloper1h80ltxwyhsh24jx5hw9z6ep35n2zyy97ezagrn'}, {'Description': {'Moniker': 'Inotel'}, 'OperatorAddress': 'terravaloper1h2nptg7rk5jjrhqnylhy7yvmanhnl3e5lztft4'}, {'Description': {'Moniker': 'block42'}, 'OperatorAddress': 'terravaloper1cvgjcp6fgkx4lzgu2csvqs0krak8kuw08y8gju'}, {'Description': {'Moniker': 'Luna Orbit TN'}, 'OperatorAddress': 'terravaloper1c0nue9ggs677fdxwr87lrc38uu38uwlkpxfauc'}, {'Description': {'Moniker': 'GalaxyDigital'}, 'OperatorAddress': 'terravaloper1ex5f52p8zrtp8scypn0l40qr2yd2w6wzv3r28g'}, {'Description': {'Moniker': 'ChainLayer'}, 'OperatorAddress': 'terravaloper1e4maqhd9uptu0hepx34xt6hje930m6k8j34q6f'}, {'Description': {'Moniker': 'Legend.X'}, 'OperatorAddress': 'terravaloper1eluygmg7nr2n5zargzkx2c88mxj2nctlaq25kz'}, {'Description': {'Moniker': 'StakeWithUs'}, 'OperatorAddress': 'terravaloper1605wepehf6mqakxaxxggy4mzv2jfgnm22yslhv'}, {'Description': {'Moniker': 'terraforming'}, 'OperatorAddress': 'terravaloper165xv35n42lt75tdvcvddgz923hstu8x9fy9px7'}, {'Description': {'Moniker': 'staked-test'}, 'OperatorAddress': 'terravaloper16esu0x30mrhhu46yz945h9m5qy9usqkapfkzrt'}, {'Description': {'Moniker': 'Forbole'}, 'OperatorAddress': 'terravaloper1u40zfjrzvkqqxyksvwsrg9vp80p8a5zskumz3y'}, {'Description': {'Moniker': 'B-Harvest'}, 'OperatorAddress': 'terravaloper17qy25m5v2j42ye880n3xk2exz5tedsfe4p8w3c'}, {'Description': {'Moniker': 'Stakely.io'}, 'OperatorAddress': 'terravaloper177hn4lnsk2gckff09hcdqxwmqpk98g639lwfys'}, {'Description': {'Moniker': 'Terran Stakers'}, 'OperatorAddress': 'terravaloper1lpdm6chq5hn85rxgwk499qa0wh8jpxvmswajex'}, {'Description': {'Moniker': 'DSRV'}, 'OperatorAddress': 'terravaloper1lt73jjl7v2cx3d70hnh59ta0uujyyrkhd2ardz'}]\n",
      "whitelisted_validators [{'Description': {'Moniker': 'node0'}, 'OperatorAddress': 'terravaloper1vk20anceu6h9s00d27pjlvslz3avetkvnwmr35'}, {'Description': {'Moniker': 'Terran.one'}, 'OperatorAddress': 'terravaloper1krj7amhhagjnyg2tkkuh6l0550y733jnjnnlzy'}]\n"
     ]
    }
   ],
   "source": [
    "validators = result['validators']['Result']\n",
    "whitelisted_validators = list(filter((lambda validator: validator['OperatorAddress'] in result['whitelisted_validators']['validators']), validators))\n",
    "\n",
    "print('whitelisted_validators', whitelisted_validators)"
   ],
   "metadata": {
    "collapsed": false,
    "pycharm": {
     "name": "#%%\n"
    }
   }
  },
  {
   "cell_type": "markdown",
   "source": [
    "# TODO\n",
    "\n",
    "- [ ] how to get the voting power?"
   ],
   "metadata": {
    "collapsed": false,
    "pycharm": {
     "name": "#%% md\n"
    }
   }
  }
 ],
 "metadata": {
  "orig_nbformat": 4,
  "language_info": {
   "name": "python",
   "version": "3.9.6",
   "mimetype": "text/x-python",
   "codemirror_mode": {
    "name": "ipython",
    "version": 3
   },
   "pygments_lexer": "ipython3",
   "nbconvert_exporter": "python",
   "file_extension": ".py"
  },
  "kernelspec": {
   "name": "python3",
   "language": "python",
   "display_name": "Python 3 (ipykernel)"
  },
  "interpreter": {
   "hash": "aee8b7b246df8f9039afb4144a1f6fd8d2ca17a180786b69acc140d282b71a49"
  }
 },
 "nbformat": 4,
 "nbformat_minor": 2
}