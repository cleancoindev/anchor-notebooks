{
 "cells": [
  {
   "cell_type": "markdown",
   "metadata": {
    "collapsed": true,
    "pycharm": {
     "name": "#%% md\n"
    }
   },
   "source": [
    "# LTV"
   ]
  },
  {
   "cell_type": "code",
   "execution_count": 35,
   "outputs": [
    {
     "name": "stdout",
     "output_type": "stream",
     "text": [
      "{\n",
      "  \"market_borrower_info\": {\n",
      "    \"borrower\": \"terra12hnhh5vtyg5juqnzm43970nh4fw42pt27nw9g9\",\n",
      "    \"interest_index\": \"1.065820927764831231\",\n",
      "    \"loan_amount\": \"68797125\",\n",
      "    \"pending_rewards\": \"1043335.412796347017660246\",\n",
      "    \"reward_index\": \"708.22385288997003553\"\n",
      "  },\n",
      "  \"oracle_prices\": {\n",
      "    \"Ok\": {\n",
      "      \"prices\": [\n",
      "        {\n",
      "          \"asset\": \"terra19mkj9nec6e3y5754tlnuz4vem7lzh4n0lc2s3l\",\n",
      "          \"last_updated_time\": 1629042734,\n",
      "          \"price\": \"3157.70996638\"\n",
      "        },\n",
      "        {\n",
      "          \"asset\": \"terra1u0t35drzyy0mujj8rkdyzhe264uls4ug3wdp3x\",\n",
      "          \"last_updated_time\": 1629042723,\n",
      "          \"price\": \"16.994835635919666177\"\n",
      "        }\n",
      "      ]\n",
      "    }\n",
      "  },\n",
      "  \"overseer_borrow_limit\": {\n",
      "    \"borrow_limit\": \"109206634\",\n",
      "    \"borrower\": \"terra12hnhh5vtyg5juqnzm43970nh4fw42pt27nw9g9\"\n",
      "  },\n",
      "  \"overseer_collaterals\": {\n",
      "    \"borrower\": \"terra12hnhh5vtyg5juqnzm43970nh4fw42pt27nw9g9\",\n",
      "    \"collaterals\": [\n",
      "      [\n",
      "        \"terra19mkj9nec6e3y5754tlnuz4vem7lzh4n0lc2s3l\",\n",
      "        \"11350\"\n",
      "      ],\n",
      "      [\n",
      "        \"terra1u0t35drzyy0mujj8rkdyzhe264uls4ug3wdp3x\",\n",
      "        \"8600910\"\n",
      "      ]\n",
      "    ]\n",
      "  },\n",
      "  \"overseer_whitelist\": {\n",
      "    \"elems\": [\n",
      "      {\n",
      "        \"collateral_token\": \"terra19mkj9nec6e3y5754tlnuz4vem7lzh4n0lc2s3l\",\n",
      "        \"custody_contract\": \"terra1j6fey5tl70k9fvrv7mea7ahfr8u2yv7l23w5e6\",\n",
      "        \"max_ltv\": \"0.6\",\n",
      "        \"name\": \"Bonded ETH\",\n",
      "        \"symbol\": \"BETH\"\n",
      "      },\n",
      "      {\n",
      "        \"collateral_token\": \"terra1u0t35drzyy0mujj8rkdyzhe264uls4ug3wdp3x\",\n",
      "        \"custody_contract\": \"terra1ltnkx0mv7lf2rca9f8w740ashu93ujughy4s7p\",\n",
      "        \"max_ltv\": \"0.6\",\n",
      "        \"name\": \"Bonded Luna\",\n",
      "        \"symbol\": \"BLUNA\"\n",
      "      }\n",
      "    ]\n",
      "  }\n",
      "}\n"
     ]
    }
   ],
   "source": [
    "from mantle import mantle\n",
    "from env import *\n",
    "from json import dumps\n",
    "from ipynb.fs.defs.common_last_synced_height import last_synced_height\n",
    "\n",
    "\n",
    "def query_ltv(wallet_addr: str):\n",
    "    block_height = last_synced_height()\n",
    "\n",
    "    return mantle(\n",
    "        wasm_query={\n",
    "            'overseer_whitelist': {\n",
    "                'contractAddress': moneymarket_overseer_addr,\n",
    "                'query': {\n",
    "                    'whitelist': {}\n",
    "                }\n",
    "            },\n",
    "            'oracle_prices': {\n",
    "                'contractAddress': moneymarket_oracle_addr,\n",
    "                'query': {\n",
    "                    'prices': {}\n",
    "                }\n",
    "            },\n",
    "            'market_borrower_info': {\n",
    "                'contractAddress': moneymarket_market_addr,\n",
    "                'query': {\n",
    "                    'borrower_info': {\n",
    "                        'borrower': wallet_addr,\n",
    "                        'block_height': block_height\n",
    "                    }\n",
    "                }\n",
    "            },\n",
    "            'overseer_collaterals': {\n",
    "                'contractAddress': moneymarket_overseer_addr,\n",
    "                'query': {\n",
    "                    'collaterals': {\n",
    "                        'borrower': wallet_addr\n",
    "                    }\n",
    "                }\n",
    "            },\n",
    "            'overseer_borrow_limit': {\n",
    "                'contractAddress': moneymarket_overseer_addr,\n",
    "                'query': {\n",
    "                    'borrow_limit': {\n",
    "                        'borrower': wallet_addr,\n",
    "                        'block_height': block_height\n",
    "                    }\n",
    "                }\n",
    "            }\n",
    "        }\n",
    "    )\n",
    "\n",
    "\n",
    "print(dumps(query_ltv('terra12hnhh5vtyg5juqnzm43970nh4fw42pt27nw9g9'), indent=2))"
   ],
   "metadata": {
    "collapsed": false,
    "pycharm": {
     "name": "#%%\n"
    }
   }
  },
  {
   "cell_type": "code",
   "execution_count": 36,
   "outputs": [
    {
     "name": "stdout",
     "output_type": "stream",
     "text": [
      "token_addrs ['terra19mkj9nec6e3y5754tlnuz4vem7lzh4n0lc2s3l', 'terra1u0t35drzyy0mujj8rkdyzhe264uls4ug3wdp3x']\n",
      "locked_amounts (in Tokens) [  11350. 8600910.]\n",
      "prices (in UST) [3157.70996638   16.99483564]\n",
      "locked_values (in UST) [ 35.84000812 146.17105177]\n",
      "total_locked_value (in UST) 182.01105988775083\n",
      "user_ltv (%) 37.79832118027789\n"
     ]
    }
   ],
   "source": [
    "from numpy import array, sum\n",
    "\n",
    "result = query_ltv('terra12hnhh5vtyg5juqnzm43970nh4fw42pt27nw9g9')\n",
    "\n",
    "if result['oracle_prices']['Ok'] is not None:\n",
    "    oracle_prices = result['oracle_prices']['Ok']['prices']\n",
    "else:\n",
    "    oracle_prices = result['oracle_prices']['prices']\n",
    "\n",
    "# create vectors\n",
    "# oracle and whitelist and collateral arrangements are not in the same order\n",
    "# So we need to sort them by token addresses\n",
    "token_addrs = list(\n",
    "    map(\n",
    "        lambda item: item['asset'],\n",
    "        oracle_prices\n",
    "    )\n",
    ")\n",
    "\n",
    "print('token_addrs', token_addrs)\n",
    "\n",
    "locked_amounts = []\n",
    "\n",
    "user_collaterals = result['overseer_collaterals']['collaterals']\n",
    "for token_addr in token_addrs:\n",
    "    locked_amount = next((item for item in user_collaterals if item[0] == token_addr), None)\n",
    "    locked_amounts.append(float(locked_amount[1]))\n",
    "\n",
    "# vectors\n",
    "locked_amounts = array(locked_amounts)\n",
    "prices = array(\n",
    "    list(\n",
    "        map(\n",
    "            lambda item: float(item['price']),\n",
    "            oracle_prices\n",
    "        )\n",
    "    )\n",
    ")\n",
    "\n",
    "print('locked_amounts (in Tokens)', locked_amounts)\n",
    "print('prices (in UST)', prices)\n",
    "\n",
    "# locked_values = [ ...locked_amounts = token amounts ] * [ ...prices = token ust prices ]\n",
    "locked_values = locked_amounts * prices\n",
    "\n",
    "print('locked_values (in UST)', locked_values / 1000000)\n",
    "\n",
    "total_locked_value = sum(locked_values)\n",
    "\n",
    "print('total_locked_value (in UST)', total_locked_value / 1000000)\n",
    "\n",
    "user_ltv = float(result['market_borrower_info']['loan_amount']) / total_locked_value\n",
    "\n",
    "print('user_ltv (%)', user_ltv * 100)"
   ],
   "metadata": {
    "collapsed": false,
    "pycharm": {
     "name": "#%%\n"
    }
   }
  },
  {
   "cell_type": "code",
   "execution_count": 37,
   "outputs": [
    {
     "name": "stdout",
     "output_type": "stream",
     "text": [
      "max_ltvs (%) [60. 60.]\n",
      "max_ltv (%) 60.0\n",
      "safe_ltv (%) 44.99999999999999\n"
     ]
    }
   ],
   "source": [
    "max_ltvs = array(\n",
    "    list(\n",
    "        map(\n",
    "            lambda item: float(item['max_ltv']),\n",
    "            result['overseer_whitelist']['elems']\n",
    "        )\n",
    "    )\n",
    ")\n",
    "\n",
    "print('max_ltvs (%)', max_ltvs * 100)\n",
    "\n",
    "max_ltv = sum(max_ltvs) / 2\n",
    "\n",
    "print('max_ltv (%)', max_ltv * 100)\n",
    "\n",
    "safe_ratio = 0.75 # constant\n",
    "safe_ltv = max_ltv * safe_ratio\n",
    "\n",
    "print('safe_ltv (%)', safe_ltv * 100)"
   ],
   "metadata": {
    "collapsed": false,
    "pycharm": {
     "name": "#%%\n"
    }
   }
  },
  {
   "cell_type": "code",
   "execution_count": 38,
   "outputs": [
    {
     "name": "stdout",
     "output_type": "stream",
     "text": [
      "user_ltv (%) 37.79832118027789\n",
      "safe_ltv (%) 44.99999999999999\n",
      "max_ltv (%) 60.0\n"
     ]
    }
   ],
   "source": [
    "print('user_ltv (%)', user_ltv * 100)\n",
    "print('safe_ltv (%)', safe_ltv * 100)\n",
    "print('max_ltv (%)', max_ltv * 100)"
   ],
   "metadata": {
    "collapsed": false,
    "pycharm": {
     "name": "#%%\n"
    }
   }
  }
 ],
 "metadata": {
  "kernelspec": {
   "display_name": "Python 3",
   "language": "python",
   "name": "python3"
  },
  "language_info": {
   "codemirror_mode": {
    "name": "ipython",
    "version": 2
   },
   "file_extension": ".py",
   "mimetype": "text/x-python",
   "name": "python",
   "nbconvert_exporter": "python",
   "pygments_lexer": "ipython2",
   "version": "2.7.6"
  }
 },
 "nbformat": 4,
 "nbformat_minor": 0
}