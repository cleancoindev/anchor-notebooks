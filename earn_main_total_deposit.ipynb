{
 "cells": [
  {
   "cell_type": "markdown",
   "source": [
    "# Total Deposit"
   ],
   "metadata": {}
  },
  {
   "cell_type": "code",
   "execution_count": 7,
   "source": [
    "from mantle import mantle\n",
    "from env import *\n",
    "from ipynb.fs.defs.common_last_synced_height import last_synced_height\n",
    "from json import dumps\n",
    "\n",
    "def earn_total_deposit_query(wallet_addr: str):\n",
    "  block_height = last_synced_height()\n",
    "\n",
    "  return mantle(\n",
    "    wasm_query={\n",
    "      'aust_balance': {\n",
    "        'contractAddress': cw20_aust_addr,\n",
    "        'query': {\n",
    "          'balance': {\n",
    "            'address': wallet_addr\n",
    "          }\n",
    "        }\n",
    "      },\n",
    "      'money_market_epoch_state': {\n",
    "        'contractAddress': moneymarket_market_addr,\n",
    "        'query': {\n",
    "          'epoch_state': {\n",
    "            'block_height': block_height\n",
    "          }\n",
    "        }\n",
    "      }\n",
    "    }\n",
    "  )\n",
    "\n",
    "result = earn_total_deposit_query('terra12hnhh5vtyg5juqnzm43970nh4fw42pt27nw9g9')\n",
    "\n",
    "print(dumps(result, indent=2))"
   ],
   "outputs": [
    {
     "name": "stdout",
     "output_type": "stream",
     "text": [
      "{\n",
      "  \"aust_balance\": {\n",
      "    \"balance\": \"1577218936\"\n",
      "  },\n",
      "  \"money_market_epoch_state\": {\n",
      "    \"aterra_supply\": \"38052978880352\",\n",
      "    \"exchange_rate\": \"1.092626479799373685\"\n",
      "  }\n",
      "}\n"
     ]
    }
   ],
   "metadata": {}
  },
  {
   "cell_type": "code",
   "execution_count": 8,
   "source": [
    "uaust = float(result['aust_balance']['balance'])\n",
    "exchange_rate = float(result['money_market_epoch_state']['exchange_rate'])\n",
    "\n",
    "total_deposit = uaust * exchange_rate\n",
    "\n",
    "print('total_deposit (in UST)', total_deposit / 1000000.0)"
   ],
   "outputs": [
    {
     "name": "stdout",
     "output_type": "stream",
     "text": [
      "total_deposit (in UST) 1723.3111739145936\n"
     ]
    }
   ],
   "metadata": {
    "pycharm": {
     "name": "#%%\n"
    }
   }
  }
 ],
 "metadata": {
  "orig_nbformat": 4,
  "language_info": {
   "name": "python",
   "version": "3.9.6",
   "mimetype": "text/x-python",
   "codemirror_mode": {
    "name": "ipython",
    "version": 3
   },
   "pygments_lexer": "ipython3",
   "nbconvert_exporter": "python",
   "file_extension": ".py"
  },
  "kernelspec": {
   "name": "python3",
   "language": "python",
   "display_name": "Python 3 (ipykernel)"
  },
  "interpreter": {
   "hash": "aee8b7b246df8f9039afb4144a1f6fd8d2ca17a180786b69acc140d282b71a49"
  }
 },
 "nbformat": 4,
 "nbformat_minor": 2
}