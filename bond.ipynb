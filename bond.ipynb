{
 "cells": [
  {
   "cell_type": "markdown",
   "source": [
    "# bLUNA Whitelisted Validators"
   ],
   "metadata": {}
  },
  {
   "cell_type": "code",
   "execution_count": 33,
   "source": [
    "from mantle import mantle\n",
    "from env import contract_address\n",
    "\n",
    "mantle_endpoint = 'https://mantle.anchorprotocol.com'\n",
    "bluna_hub = 'terra1mtwph2juhj0rvjz7dy92gvl6xvukaxu8rfv8ts'\n",
    "\n",
    "# language=graphql\n",
    "query = \"\"\"\n",
    "query {\n",
    "  validators: StakingValidators {\n",
    "    Result {\n",
    "      OperatorAddress\n",
    "      Description {\n",
    "        Moniker\n",
    "      }\n",
    "    }\n",
    "  }\n",
    "}\n",
    "\"\"\"\n",
    "\n",
    "result = mantle(\n",
    "  mantle_endpoint=mantle_endpoint,\n",
    "  query=query,\n",
    "  wasm_query={\n",
    "    'whitelisted_validators': {\n",
    "      # 'contractAddress': contract_address['bluna']['hub'],\n",
    "      'contractAddress': bluna_hub, # mainnet bluna hub\n",
    "      'query': {\n",
    "        'whitelisted_validators': {}\n",
    "      }\n",
    "    }\n",
    "  }\n",
    ")\n",
    "\n",
    "print(result)"
   ],
   "outputs": [
    {
     "name": "stdout",
     "output_type": "stream",
     "text": [
      "{'validators': {'Result': [{'Description': {'Moniker': 'TERRA-FIRMA'}, 'OperatorAddress': 'terravaloper1qqu376azltyc5wnsje5qgwru5mtj2yqdhar97v'}, {'Description': {'Moniker': 'Bison Trails'}, 'OperatorAddress': 'terravaloper1qt7kqljer7fxzudqdyhx87l7wreeef53s2smsa'}, {'Description': {'Moniker': 'Talis Protocol'}, 'OperatorAddress': 'terravaloper1qd0uk3wrw73x662y2gx4kaulrzlcky6275gl5s'}, {'Description': {'Moniker': 'LunaOrbit'}, 'OperatorAddress': 'terravaloper1p94a6vwl9dkd98cyrlmzf6ydjdgfvamyhu33fa'}, {'Description': {'Moniker': 'WeStaking'}, 'OperatorAddress': 'terravaloper1ptyzewnns2kn37ewtmv6ppsvhdnmeapvgk6d65'}, {'Description': {'Moniker': '#decentralizehk'}, 'OperatorAddress': 'terravaloper1p3uz3qztr2faqqq0h20qdwmvkc3ugupgyk4qyg'}, {'Description': {'Moniker': 'hashed'}, 'OperatorAddress': 'terravaloper1p54hc4yy2ajg67j645dn73w3378j6k05vmx9r9'}, {'Description': {'Moniker': 'Staker Space'}, 'OperatorAddress': 'terravaloper1pc0gs3n6803x7jqe9m7etegmyx29xw38aaf3u7'}, {'Description': {'Moniker': 'Accomplice Blockchain'}, 'OperatorAddress': 'terravaloper1p72vswk5zfzzr7myhrerm78ty5tjc8ypl259tm'}, {'Description': {'Moniker': 'Autism Capital 🧩'}, 'OperatorAddress': 'terravaloper1zc9uadde55t4k3aw9uvgpkhwpsyzkq3k20g38r'}, {'Description': {'Moniker': 'StakeTo.Me | 1% FEE'}, 'OperatorAddress': 'terravaloper1z7we2y02fy2kvw0tdq8k26j4t370n58wxvl4ge'}, {'Description': {'Moniker': 'SCB 10X'}, 'OperatorAddress': 'terravaloper1ryhpcmnkeqa6umrp06g9782qjwdqc8wfe3vada'}, {'Description': {'Moniker': 'flipside'}, 'OperatorAddress': 'terravaloper1r843mpk5zzkfgtnduskd0dzgeltv0n503ckzy6'}, {'Description': {'Moniker': 'gazua'}, 'OperatorAddress': 'terravaloper1rf9xakxf97a49qa5svsf7yypjswzkutqfhnpn5'}, {'Description': {'Moniker': 'AuraStake'}, 'OperatorAddress': 'terravaloper1rjmzlljxwu2qh6g2sm9uldmtg0kj4qgyy9jx24'}, {'Description': {'Moniker': 'blocksteady'}, 'OperatorAddress': 'terravaloper1r7zwfk0lx6kuy8r03ewdchaea3ssy5vuduuhqh'}, {'Description': {'Moniker': 'CoinBevy'}, 'OperatorAddress': 'terravaloper1yxkfgpyu6m2wkgw4ljuky9lvn59r3wn0ksfvyl'}, {'Description': {'Moniker': 'BTC.Secure'}, 'OperatorAddress': 'terravaloper1ya23p5cxtxwcfdrq4dmd2h0p5nc0vcl96yhjra'}, {'Description': {'Moniker': 'healings'}, 'OperatorAddress': 'terravaloper1yad8pjqp93gvwkxa2aa5mh4vctzfs37ekjxr4s'}, {'Description': {'Moniker': 'ChainofSecrets.org'}, 'OperatorAddress': 'terravaloper1y7px9rdkn3xeh2hyfvk9pveygsk4v7lmf3d9w3'}, {'Description': {'Moniker': 'Un Fuego'}, 'OperatorAddress': 'terravaloper1y7e9grrpt8kp0uk2v6mqd9pd0zdnkcwx4tmexv'}, {'Description': {'Moniker': 'MoonletWallet'}, 'OperatorAddress': 'terravaloper19xe62428tlfesdym0zn5wx9slyefqjp00r67kw'}, {'Description': {'Moniker': 'Zerg One'}, 'OperatorAddress': 'terravaloper198c72uxt9p8r2u5y6zha4390qjkayvjr3gduxx'}, {'Description': {'Moniker': 'Terra-India'}, 'OperatorAddress': 'terravaloper19ne0aqltndwxl0n32zyuglp2z8mm3nu0gxpfaw'}, {'Description': {'Moniker': 'Orbital Command'}, 'OperatorAddress': 'terravaloper19hflr9ay8usqxsxm4zzrsxfy3xz7hp6kv4ydnd'}, {'Description': {'Moniker': 'Shutting down - please undelegate'}, 'OperatorAddress': 'terravaloper197d5p7lpn34r2uff0drx78zf5e4jle4wwthzyd'}, {'Description': {'Moniker': 'MissionControl'}, 'OperatorAddress': 'terravaloper1x4ce4fhqdnu8j7hrp64qmthumsvuhlq8y0kvx4'}, {'Description': {'Moniker': 'Pantera Capital'}, 'OperatorAddress': 'terravaloper1xc58asjmdhaqeargcaev3muem2xtp36x8ru3n5'}, {'Description': {'Moniker': 'Heavy Metal Finland'}, 'OperatorAddress': 'terravaloper1xetqge5kmatfk6223hcfgf8z3tnukmjhrewxru'}, {'Description': {'Moniker': 'moonshot'}, 'OperatorAddress': 'terravaloper1xuxwc867udr9k84zzqhaflf9sc00svvmj5e4fy'}, {'Description': {'Moniker': 'Luna Rewards'}, 'OperatorAddress': 'terravaloper1xl2ujgt7f6xn8v26rjkhy4f20x5plc3nq6nql7'}, {'Description': {'Moniker': 'bc1'}, 'OperatorAddress': 'terravaloper18p7kdpvpsp3muz93ww7ej72wyrrdja2l7a7mfk'}, {'Description': {'Moniker': 'stake.zone'}, 'OperatorAddress': 'terravaloper18fk2ye6m5wnnfrarpwycunnw0ls8564zw37myg'}, {'Description': {'Moniker': 'OneStar'}, 'OperatorAddress': 'terravaloper18hpew39uymssr52w8euxqh4zrrjt02x7k0jmhk'}, {'Description': {'Moniker': 'iqlusion'}, 'OperatorAddress': 'terravaloper1grgelyng2v6v3t8z87wu3sxgt9m5s03x2mfyu7'}, {'Description': {'Moniker': 'Genesis Lab'}, 'OperatorAddress': 'terravaloper1gh7wpfpsjrqnash5uc84z4njt95y9g5nh3uqzx'}, {'Description': {'Moniker': 'StakeSabai'}, 'OperatorAddress': 'terravaloper1g6g0v23c6tv75ygk5za4s2ewwestdfj0k2cy2x'}, {'Description': {'Moniker': 'Stakeit'}, 'OperatorAddress': 'terravaloper1f2rjcnn7m6ezpjk8rl55wl3p0vsq6cdagwvhwn'}, {'Description': {'Moniker': 'BlockNgine.io - 0% fee'}, 'OperatorAddress': 'terravaloper1f2t96sz9hnwsqnneux6v28xfgn07pkxjduvwjz'}, {'Description': {'Moniker': 'DELIGHT'}, 'OperatorAddress': 'terravaloper1fjuvyccn8hfmn5r7wc2t3kwqy09zzp6tyjcf50'}, {'Description': {'Moniker': 'SolidStake'}, 'OperatorAddress': 'terravaloper1fhx7y75643tze8dxf4m9gwhkxn955q8r7vxjel'}, {'Description': {'Moniker': 'Nodeasy'}, 'OperatorAddress': 'terravaloper12qvrr6j7u3z5el5uuwg99ftx3jru5py6027gfx'}, {'Description': {'Moniker': 'jessel-capital'}, 'OperatorAddress': 'terravaloper12x0uekrjre057h0vyrf9w8mkz6paf32qvn0q84'}, {'Description': {'Moniker': 'PFC - CFP'}, 'OperatorAddress': 'terravaloper12g4nkvsjjnl0t7fvq3hdcw7y8dc9fq69nyeu9q'}, {'Description': {'Moniker': '0base.vc'}, 'OperatorAddress': 'terravaloper12079m57cew2v02zs624zvyed5479an9wxh03fy'}, {'Description': {'Moniker': 'Staking Fund'}, 'OperatorAddress': 'terravaloper123gn6j23lmexu0qx5qhmgxgunmjcqsx8gmsyse'}, {'Description': {'Moniker': 'Synergy Nodes - Glory'}, 'OperatorAddress': 'terravaloper12jpzzmwthrljcvm48adncspxtchazkl8vah7u4'}, {'Description': {'Moniker': 'Orion.Money'}, 'OperatorAddress': 'terravaloper1259cmu5zyklsdkmgstxhwqpe0utfe5hhyty0at'}, {'Description': {'Moniker': 'HuobiPool'}, 'OperatorAddress': 'terravaloper12kfeqrflptmlz5qj8agrm2ze6dzss3crm7uevf'}, {'Description': {'Moniker': 'Coverlet'}, 'OperatorAddress': 'terravaloper12ce886lv4muzt09rgehsta8433d8vz7cxmha0p'}, {'Description': {'Moniker': 'Go-Terra'}, 'OperatorAddress': 'terravaloper12mcn4pj7d8yeff0xfedcthqe9gs3vwc2tn8sy2'}, {'Description': {'Moniker': 'Terra Bites'}, 'OperatorAddress': 'terravaloper1t90gxaawul292g2vvqnr3g0p39tw5v6vsk5p96'}, {'Description': {'Moniker': 'setten.io'}, 'OperatorAddress': 'terravaloper1tdkh85vv7vsvav93elmx6qsywuu22amc60u3sa'}, {'Description': {'Moniker': 'Stake5 Labs'}, 'OperatorAddress': 'terravaloper1t0z9y2p26qzsh06f2l2kn2v8hqtkyd33s409ey'}, {'Description': {'Moniker': 'ATEAM'}, 'OperatorAddress': 'terravaloper1tusfpgvjrplqg2fm7wacy4slzjmnzswcfufuvp'}, {'Description': {'Moniker': 'GalaxyDigital'}, 'OperatorAddress': 'terravaloper1t76s5v5vjawkrr70sh55flpxfcmc3k304qrpvr'}, {'Description': {'Moniker': '🌐 KysenPool Moon 🌕'}, 'OperatorAddress': 'terravaloper1vqnhgc6d0jyggtytzqrnsc40r4zez6tx99382w'}, {'Description': {'Moniker': 'Inotel'}, 'OperatorAddress': 'terravaloper1vqegsqhe8q06t6jwgvww0qcr2u6v6g9xrwjnmw'}, {'Description': {'Moniker': 'Caronte'}, 'OperatorAddress': 'terravaloper1vfl60ely0r9pf0e5cle4732xa2dttux7yrmjmu'}, {'Description': {'Moniker': 'EZStaking.io'}, 'OperatorAddress': 'terravaloper1vv4y54wczzk99ga65uvy7555n5q68gswcmdvj2'}, {'Description': {'Moniker': 'Legend.X'}, 'OperatorAddress': 'terravaloper1v3dey0ha6vdnssru88t2m5fzy7vuvs7emt37an'}, {'Description': {'Moniker': 'DokiaCapital'}, 'OperatorAddress': 'terravaloper1v5hrqlv8dqgzvy0pwzqzg0gxy899rm4kdur03x'}, {'Description': {'Moniker': 'Tavis Digital'}, 'OperatorAddress': 'terravaloper1vhm0l52y83vsqr60vt7vhxgsjlfyhf3h2mgfpe'}, {'Description': {'Moniker': 'NOD Games'}, 'OperatorAddress': 'terravaloper1va2ew92dtkhffduswr83elf3nfvl4xg48vyp7v'}, {'Description': {'Moniker': 'Marte Cloud'}, 'OperatorAddress': 'terravaloper1dg7zhmt4g4zq74y4tksq4xfzf5pwx4cnngavjk'}, {'Description': {'Moniker': 'Terra World'}, 'OperatorAddress': 'terravaloper1dfcptsy9x4wzhpv0m79v47ladgj02yyufq3d50'}, {'Description': {'Moniker': 'Easy 2 Stake'}, 'OperatorAddress': 'terravaloper1d0vfj9zvxfgcm4yt4ze4u35mvhj57eg2ku2ekv'}, {'Description': {'Moniker': 'DACM'}, 'OperatorAddress': 'terravaloper1d0dupc4hvl4nnfky6vqp4xyeunejgsjas9km7q'}, {'Description': {'Moniker': 'Cives lunares'}, 'OperatorAddress': 'terravaloper1d3fv2cjukt0e6lrzd8d857jatlkht7wcp85zar'}, {'Description': {'Moniker': 'Mr.K'}, 'OperatorAddress': 'terravaloper1dcrq2xwuhea9hm5xfuydjuwgz6gm7vdjz7e4uf'}, {'Description': {'Moniker': 'porn addicts anonymous'}, 'OperatorAddress': 'terravaloper1d6r83n848v2juv6qal7a0r3n9n6vmpqjw6xpzk'}, {'Description': {'Moniker': 'CAPAPULT'}, 'OperatorAddress': 'terravaloper1wqcc5g3k3mqg96pgvemzstmhkf42lt8358v6rd'}, {'Description': {'Moniker': 'pegasus'}, 'OperatorAddress': 'terravaloper1wdpwudvc639tpy952n2myre6uckuqdu3h9suke'}, {'Description': {'Moniker': 'Stakely.io'}, 'OperatorAddress': 'terravaloper108lmrztvc3pc3w774shgvpry4d3lf79k2ummna'}, {'Description': {'Moniker': 'NEOWIZ'}, 'OperatorAddress': 'terravaloper103ra79dl2un2ltknhyz7crm5y29g4vhmycfwv9'}, {'Description': {'Moniker': 'Rockaway Blockchain Fund'}, 'OperatorAddress': 'terravaloper1syhmzgg9jqf5cff05s9k4jkp5e25e00qjga4xl'}, {'Description': {'Moniker': 'syncnode'}, 'OperatorAddress': 'terravaloper1sym8gyehrdsm03vdc44rg9sflg8zeuqwfzavhx'}, {'Description': {'Moniker': 'KK Validator'}, 'OperatorAddress': 'terravaloper1svcgzkp4lhvvltce5uk73tnwxfrj6nlka4vm3x'}, {'Description': {'Moniker': 'Cosmic Validator'}, 'OperatorAddress': 'terravaloper1smkgwm78aqf0ja3qvtqwngzczpcekudvtluv9q'}, {'Description': {'Moniker': 'everstakeone'}, 'OperatorAddress': 'terravaloper13g7z3qq6f00qww3u4mpcs3xw5jhqwraswraapc'}, {'Description': {'Moniker': 'DUST Foundation'}, 'OperatorAddress': 'terravaloper13307pxehvt0qply3kw9vk578u4az0u4mu9eef4'}, {'Description': {'Moniker': 'MCF'}, 'OperatorAddress': 'terravaloper13ncmrxrf8r0gkztpu7hxvs0hvfuqnq4kd7qr49'}, {'Description': {'Moniker': 'kytzu'}, 'OperatorAddress': 'terravaloper1jyjg55hzsh0f4xymy0kuuan30pp4q75ruqmvyt'}, {'Description': {'Moniker': 'Luna Station 88'}, 'OperatorAddress': 'terravaloper1j27nm2gjm0m4lsye8lspa46rax0rw4fge23nnr'}, {'Description': {'Moniker': 'Bi23 Labs'}, 'OperatorAddress': 'terravaloper1jsdfyz8uhw2nd7cl45709w40r268phmvxam8eh'}, {'Description': {'Moniker': 'Forbole'}, 'OperatorAddress': 'terravaloper1jkqr2vfg4krfd4zwmsf7elfj07cjuzss30ux8g'}, {'Description': {'Moniker': 'Terra Bull - 0% 🚀🌕'}, 'OperatorAddress': 'terravaloper1j747dvwyg0kk9ltrz5ux443lhzzq5tgdpsa7qw'}, {'Description': {'Moniker': 'Stakin'}, 'OperatorAddress': 'terravaloper1nwrksgv2vuadma8ygs8rhwffu2ygk4j24w2mku'}, {'Description': {'Moniker': 'Protoss One'}, 'OperatorAddress': 'terravaloper1nnm4qx2ytff5gy7a82yh4nw4tnez4s38p4y0g9'}, {'Description': {'Moniker': 'AUDIT.one'}, 'OperatorAddress': 'terravaloper1n7pkcal0jkp0ac9r338qp9cm5x6cakfnremtnt'}, {'Description': {'Moniker': 'Masternode24.de'}, 'OperatorAddress': 'terravaloper15qjn7ke9s47qn4mte3lerkxtjjgp38n5qquzsu'}, {'Description': {'Moniker': 'B-Harvest'}, 'OperatorAddress': 'terravaloper15zcjduavxc5mkp8qcqs9eyhwlqwdlrzy6jln3m'}, {'Description': {'Moniker': 'Mosaic'}, 'OperatorAddress': 'terravaloper15s5d4lm0n75af9jxwawqzl73trnrypdslajxz4'}, {'Description': {'Moniker': 'Blockdaemon'}, 'OperatorAddress': 'terravaloper155x8vngnz4u2ce3fs6dvu027v8w90jqdjtdp3h'}, {'Description': {'Moniker': 'blockscape'}, 'OperatorAddress': 'terravaloper1542ek7muegmm806akl0lam5vlqlph7spflfcun'}, {'Description': {'Moniker': 'Figment'}, 'OperatorAddress': 'terravaloper15cupwhpnxhgylxa8n4ufyvux05xu864jcv0tsw'}, {'Description': {'Moniker': 'Sarah Kerrigan'}, 'OperatorAddress': 'terravaloper1565r942vpnpqtrsmhxxwvel8j2m40zgsppvl2j'}, {'Description': {'Moniker': 'Chorus One'}, 'OperatorAddress': 'terravaloper15urq2dtp9qce4fyc85m6upwm9xul30496sgk37'}, {'Description': {'Moniker': 'P2P.ORG - P2P Validator'}, 'OperatorAddress': 'terravaloper144l7c3uph5a7h62xd8u5et3rqvj3dqtvvka2fu'}, {'Description': {'Moniker': 'Certus One'}, 'OperatorAddress': 'terravaloper1kprce6kc08a6l03gzzh99hfpazfjeczfpzkkau'}, {'Description': {'Moniker': 'Terran One'}, 'OperatorAddress': 'terravaloper1krj7amhhagjnyg2tkkuh6l0550y733jnjnnlzy'}, {'Description': {'Moniker': 'ChainLayer'}, 'OperatorAddress': 'terravaloper1kgddca7qj96z0qcxr2c45z73cfl0c75paknc5e'}, {'Description': {'Moniker': 'Bit Cat🐱'}, 'OperatorAddress': 'terravaloper1k4ef8m95t7eq522evmmuzvfkpla04pezmu4j7k'}, {'Description': {'Moniker': '01node.com'}, 'OperatorAddress': 'terravaloper1khfcg09plqw84jxy5e7fj6ag4s2r9wqsgm7k94'}, {'Description': {'Moniker': 'wave'}, 'OperatorAddress': 'terravaloper1hqzf3tnw0py69xd5swwr3c7tqcumwjzdzqca7l'}, {'Description': {'Moniker': 'Angel Protocol'}, 'OperatorAddress': 'terravaloper1hqyygjq0vdqk0xdpkffgamzr4f7tqqg5u9mg66'}, {'Description': {'Moniker': 'Terraforming'}, 'OperatorAddress': 'terravaloper1hg70rkal5d86fl57k0gc7de0rrk4klgs59r7jc'}, {'Description': {'Moniker': 'TerraDactyl'}, 'OperatorAddress': 'terravaloper1hwucxmeqtytu9nq54e9aarwrhzsej6w0hrrwz3'}, {'Description': {'Moniker': 'Staked'}, 'OperatorAddress': 'terravaloper1h6rf7y2ar5vz64q8rchz5443s3tqnswrpf4846'}, {'Description': {'Moniker': '8moon'}, 'OperatorAddress': 'terravaloper1hme9uynnxf0ga72xmwtdgztt2lmg0jlqjgsj5n'}, {'Description': {'Moniker': 'StakeWith.Us'}, 'OperatorAddress': 'terravaloper1c9ye54e3pzwm3e0zpdlel6pnavrj9qqvq89r3r'}, {'Description': {'Moniker': 'MANTRA DAO'}, 'OperatorAddress': 'terravaloper1chscwnxzcnd8qvk76efjd6dd73gf945dh4qryr'}, {'Description': {'Moniker': '“BinanceStacking”'}, 'OperatorAddress': 'terravaloper1cc92ptawsp9363aae9wrp2xm6zm9fmucw9mucd'}, {'Description': {'Moniker': 'Arrington XRP Capital'}, 'OperatorAddress': 'terravaloper1c6gve6zhye5690563wxmvns7mugz6plu4aj7d3'}, {'Description': {'Moniker': 'Fair Square Lab'}, 'OperatorAddress': 'terravaloper1cac2mcf2eszn9ln3fx4heym6kd363zqfelxrmr'}, {'Description': {'Moniker': 'Luna Maximalists'}, 'OperatorAddress': 'terravaloper162892yn0tf8dxl8ghgneqykyr8ufrwmcs4q5m8'}, {'Description': {'Moniker': 'block42'}, 'OperatorAddress': 'terravaloper16tc3c9u6yj5uuhru32pvs0pahfwraurpypz7vj'}, {'Description': {'Moniker': 'Craig'}, 'OperatorAddress': 'terravaloper1magm90vzn4t75da3jadmahcp5ya075ez9t6rwa'}, {'Description': {'Moniker': 'Terran Stakers'}, 'OperatorAddress': 'terravaloper1uymwfafhq8fruvcjq8k67a29nqzrxnv9m6m427'}, {'Description': {'Moniker': 'Crypto Plant'}, 'OperatorAddress': 'terravaloper1u7cfwp620pn8tjfth92t5dry3mhd3etc2utr94'}, {'Description': {'Moniker': 'stake.systems'}, 'OperatorAddress': 'terravaloper1a9q6jl792qg36cp025ccjtgyf4qxrwzqjkmk5d'}, {'Description': {'Moniker': 'NEVS.Capital'}, 'OperatorAddress': 'terravaloper1a209pg5fgzehkg8wyslynns2tc7uf7x6txgplv'}, {'Description': {'Moniker': 'RockX'}, 'OperatorAddress': 'terravaloper1aw0znxtlq0wrayyz7wppz3qnw94hfrmnnrcxja'}, {'Description': {'Moniker': 'FreshLUNA | Nebula High-Yield Validator W/ 0% Fee'}, 'OperatorAddress': 'terravaloper1audgfvmgt0js54p3s8kj3r40uwej6vy2tv6rrw'}, {'Description': {'Moniker': 'Smart Stake - terra.smartstake.io'}, 'OperatorAddress': 'terravaloper1alpf6snw2d76kkwjv3dp4l7pcl6cn9uyt0tcj9'}, {'Description': {'Moniker': 'BridgeTower'}, 'OperatorAddress': 'terravaloper17juxr8d54kfscas5jmtaztfcrsdhalm0eh7u4g'}, {'Description': {'Moniker': 'DSRV - CHAISCAN.com'}, 'OperatorAddress': 'terravaloper175hhkyxmkp8hf2zrzka7cnn7lk6mudtv4uuu64'}, {'Description': {'Moniker': 'Luna Station 81 (Premium)'}, 'OperatorAddress': 'terravaloper1l8kzrd460yxcfshllr47n580qtjgp875g8ancf'}, {'Description': {'Moniker': 'Wolf of Luna'}, 'OperatorAddress': 'terravaloper1lc2dzu2rt6qrnkhtzmas3w7qpcwd2f52lvtnpz'}, {'Description': {'Moniker': 'Staky.io | 0% commission'}, 'OperatorAddress': 'terravaloper1lm604mtdalpd9z46486acqlshns2urquwvkmq8'}]}, 'whitelisted_validators': {'validators': ['terravaloper123gn6j23lmexu0qx5qhmgxgunmjcqsx8gmsyse', 'terravaloper144l7c3uph5a7h62xd8u5et3rqvj3dqtvvka2fu', 'terravaloper15urq2dtp9qce4fyc85m6upwm9xul30496sgk37', 'terravaloper15zcjduavxc5mkp8qcqs9eyhwlqwdlrzy6jln3m', 'terravaloper175hhkyxmkp8hf2zrzka7cnn7lk6mudtv4uuu64', 'terravaloper1c9ye54e3pzwm3e0zpdlel6pnavrj9qqvq89r3r', 'terravaloper1jkqr2vfg4krfd4zwmsf7elfj07cjuzss30ux8g', 'terravaloper1kprce6kc08a6l03gzzh99hfpazfjeczfpzkkau', 'terravaloper1v5hrqlv8dqgzvy0pwzqzg0gxy899rm4kdur03x']}}\n"
     ]
    }
   ],
   "metadata": {
    "pycharm": {
     "name": "#%%\n"
    }
   }
  },
  {
   "cell_type": "code",
   "execution_count": 34,
   "outputs": [
    {
     "name": "stdout",
     "output_type": "stream",
     "text": [
      "whitelisted_validators [{'Description': {'Moniker': 'Staking Fund'}, 'OperatorAddress': 'terravaloper123gn6j23lmexu0qx5qhmgxgunmjcqsx8gmsyse'}, {'Description': {'Moniker': 'DokiaCapital'}, 'OperatorAddress': 'terravaloper1v5hrqlv8dqgzvy0pwzqzg0gxy899rm4kdur03x'}, {'Description': {'Moniker': 'Forbole'}, 'OperatorAddress': 'terravaloper1jkqr2vfg4krfd4zwmsf7elfj07cjuzss30ux8g'}, {'Description': {'Moniker': 'B-Harvest'}, 'OperatorAddress': 'terravaloper15zcjduavxc5mkp8qcqs9eyhwlqwdlrzy6jln3m'}, {'Description': {'Moniker': 'Chorus One'}, 'OperatorAddress': 'terravaloper15urq2dtp9qce4fyc85m6upwm9xul30496sgk37'}, {'Description': {'Moniker': 'P2P.ORG - P2P Validator'}, 'OperatorAddress': 'terravaloper144l7c3uph5a7h62xd8u5et3rqvj3dqtvvka2fu'}, {'Description': {'Moniker': 'Certus One'}, 'OperatorAddress': 'terravaloper1kprce6kc08a6l03gzzh99hfpazfjeczfpzkkau'}, {'Description': {'Moniker': 'StakeWith.Us'}, 'OperatorAddress': 'terravaloper1c9ye54e3pzwm3e0zpdlel6pnavrj9qqvq89r3r'}, {'Description': {'Moniker': 'DSRV - CHAISCAN.com'}, 'OperatorAddress': 'terravaloper175hhkyxmkp8hf2zrzka7cnn7lk6mudtv4uuu64'}]\n"
     ]
    }
   ],
   "source": [
    "validators = result['validators']['Result']\n",
    "whitelisted_validators = list(filter((lambda validator: validator['OperatorAddress'] in result['whitelisted_validators']['validators']), validators))\n",
    "\n",
    "print('whitelisted_validators', whitelisted_validators)"
   ],
   "metadata": {
    "collapsed": false,
    "pycharm": {
     "name": "#%%\n"
    }
   }
  },
  {
   "cell_type": "code",
   "execution_count": 35,
   "outputs": [
    {
     "name": "stdout",
     "output_type": "stream",
     "text": [
      "({'Description': {'Moniker': 'Forbole'}, 'OperatorAddress': 'terravaloper1jkqr2vfg4krfd4zwmsf7elfj07cjuzss30ux8g'}, 1989662251327)\n",
      "({'Description': {'Moniker': 'P2P.ORG - P2P Validator'}, 'OperatorAddress': 'terravaloper144l7c3uph5a7h62xd8u5et3rqvj3dqtvvka2fu'}, 3439248829989)\n",
      "({'Description': {'Moniker': 'StakeWith.Us'}, 'OperatorAddress': 'terravaloper1c9ye54e3pzwm3e0zpdlel6pnavrj9qqvq89r3r'}, 4426775472309)\n",
      "({'Description': {'Moniker': 'Chorus One'}, 'OperatorAddress': 'terravaloper15urq2dtp9qce4fyc85m6upwm9xul30496sgk37'}, 7092540150297)\n",
      "({'Description': {'Moniker': 'Certus One'}, 'OperatorAddress': 'terravaloper1kprce6kc08a6l03gzzh99hfpazfjeczfpzkkau'}, 8617648134858)\n",
      "({'Description': {'Moniker': 'DokiaCapital'}, 'OperatorAddress': 'terravaloper1v5hrqlv8dqgzvy0pwzqzg0gxy899rm4kdur03x'}, 11331356171523)\n",
      "({'Description': {'Moniker': 'DSRV - CHAISCAN.com'}, 'OperatorAddress': 'terravaloper175hhkyxmkp8hf2zrzka7cnn7lk6mudtv4uuu64'}, 12414253960040)\n",
      "({'Description': {'Moniker': 'Staking Fund'}, 'OperatorAddress': 'terravaloper123gn6j23lmexu0qx5qhmgxgunmjcqsx8gmsyse'}, 24671035729868)\n",
      "({'Description': {'Moniker': 'B-Harvest'}, 'OperatorAddress': 'terravaloper15zcjduavxc5mkp8qcqs9eyhwlqwdlrzy6jln3m'}, 25922558310255)\n"
     ]
    }
   ],
   "source": [
    "whitelisted_validators_voting_powers = []\n",
    "\n",
    "voting_power_query = \"\"\"\n",
    "query ($address: String!) {\n",
    "  voting_power: StakingValidatorsValidatorAddr(ValidatorAddr: $address) {\n",
    "    Result {\n",
    "      Tokens\n",
    "    }\n",
    "  }\n",
    "}\n",
    "\"\"\"\n",
    "\n",
    "for validator in whitelisted_validators:\n",
    "  voting_power_result = mantle(\n",
    "    mantle_endpoint='https://mantle.anchorprotocol.com',\n",
    "    query=voting_power_query,\n",
    "    query_variables={\n",
    "      'address': validator['OperatorAddress']\n",
    "    }\n",
    "  )\n",
    "\n",
    "  whitelisted_validators_voting_powers.append(int(voting_power_result['voting_power']['Result']['Tokens']))\n",
    "\n",
    "voting_power_validators = list(zip(whitelisted_validators, whitelisted_validators_voting_powers))\n",
    "sorted_voting_power_validators = sorted(voting_power_validators, key=(lambda item: item[1]))\n",
    "\n",
    "for validator in sorted_voting_power_validators:\n",
    "  print(validator)"
   ],
   "metadata": {
    "collapsed": false,
    "pycharm": {
     "name": "#%%\n"
    }
   }
  }
 ],
 "metadata": {
  "orig_nbformat": 4,
  "language_info": {
   "name": "python",
   "version": "3.9.6",
   "mimetype": "text/x-python",
   "codemirror_mode": {
    "name": "ipython",
    "version": 3
   },
   "pygments_lexer": "ipython3",
   "nbconvert_exporter": "python",
   "file_extension": ".py"
  },
  "kernelspec": {
   "name": "python3",
   "language": "python",
   "display_name": "Python 3 (ipykernel)"
  },
  "interpreter": {
   "hash": "aee8b7b246df8f9039afb4144a1f6fd8d2ca17a180786b69acc140d282b71a49"
  }
 },
 "nbformat": 4,
 "nbformat_minor": 2
}