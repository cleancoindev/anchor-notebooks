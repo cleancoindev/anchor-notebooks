{
 "cells": [
  {
   "cell_type": "markdown",
   "source": [
    "# Current APY"
   ],
   "metadata": {
    "collapsed": false
   }
  },
  {
   "cell_type": "code",
   "execution_count": 4,
   "outputs": [
    {
     "name": "stdout",
     "output_type": "stream",
     "text": [
      "{\n",
      "  \"overseer_epoch_state\": {\n",
      "    \"deposit_rate\": \"0.000000041753951682\",\n",
      "    \"last_executed_height\": 5381814,\n",
      "    \"prev_aterra_supply\": \"38052978880352\",\n",
      "    \"prev_exchange_rate\": \"1.092626387331026845\",\n",
      "    \"prev_interest_buffer\": \"3666138939145\"\n",
      "  }\n",
      "}\n"
     ]
    }
   ],
   "source": [
    "from mantle import mantle\n",
    "from env import *\n",
    "from json import dumps\n",
    "\n",
    "result = mantle(\n",
    "  wasm_query={\n",
    "    'overseer_epoch_state': {\n",
    "      'contractAddress': moneymarket_overseer_addr,\n",
    "      'query': {\n",
    "        'epoch_state': {}\n",
    "      }\n",
    "    }\n",
    "  }\n",
    ")\n",
    "\n",
    "print(dumps(result, indent=2))"
   ],
   "metadata": {
    "collapsed": false,
    "pycharm": {
     "name": "#%%\n"
    }
   }
  },
  {
   "cell_type": "code",
   "execution_count": 2,
   "outputs": [
    {
     "name": "stdout",
     "output_type": "stream",
     "text": [
      "current_apy 19.444021973225443\n"
     ]
    }
   ],
   "source": [
    "blocks_per_year = 4656810.0 # constant\n",
    "deposit_rate = float(result['overseer_epoch_state']['deposit_rate'])\n",
    "\n",
    "current_apy = deposit_rate * blocks_per_year\n",
    "\n",
    "print('current_apy', current_apy * 100.0)"
   ],
   "metadata": {
    "collapsed": false,
    "pycharm": {
     "name": "#%%\n"
    }
   }
  }
 ],
 "metadata": {
  "kernelspec": {
   "display_name": "Python 3",
   "language": "python",
   "name": "python3"
  },
  "language_info": {
   "codemirror_mode": {
    "name": "ipython",
    "version": 2
   },
   "file_extension": ".py",
   "mimetype": "text/x-python",
   "name": "python",
   "nbconvert_exporter": "python",
   "pygments_lexer": "ipython2",
   "version": "2.7.6"
  }
 },
 "nbformat": 4,
 "nbformat_minor": 0
}