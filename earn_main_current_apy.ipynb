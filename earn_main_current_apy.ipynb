{
 "cells": [
  {
   "cell_type": "markdown",
   "source": [
    "# Current APY"
   ],
   "metadata": {
    "collapsed": false
   }
  },
  {
   "cell_type": "code",
   "execution_count": 6,
   "outputs": [
    {
     "name": "stdout",
     "output_type": "stream",
     "text": [
      "{\n",
      "  \"overseer_epoch_state\": {\n",
      "    \"deposit_rate\": \"0.000000041752976853\",\n",
      "    \"last_executed_height\": 5383011,\n",
      "    \"prev_aterra_supply\": \"38055484190622\",\n",
      "    \"prev_exchange_rate\": \"1.092680997152996889\",\n",
      "    \"prev_interest_buffer\": \"3667107644403\"\n",
      "  }\n",
      "}\n"
     ]
    }
   ],
   "source": [
    "from mantle import mantle\n",
    "from env import *\n",
    "from json import dumps\n",
    "\n",
    "def query_current_apy():\n",
    "  return mantle(\n",
    "    wasm_query={\n",
    "      'overseer_epoch_state': {\n",
    "        'contractAddress': moneymarket_overseer_addr,\n",
    "        'query': {\n",
    "          'epoch_state': {}\n",
    "        }\n",
    "      }\n",
    "    }\n",
    "  )\n",
    "\n",
    "print(dumps(query_current_apy(), indent=2))"
   ],
   "metadata": {
    "collapsed": false,
    "pycharm": {
     "name": "#%%\n"
    }
   }
  },
  {
   "cell_type": "code",
   "execution_count": 7,
   "outputs": [
    {
     "name": "stdout",
     "output_type": "stream",
     "text": [
      "current_apy 19.443568013881894\n"
     ]
    }
   ],
   "source": [
    "result = query_current_apy()\n",
    "\n",
    "deposit_rate = float(result['overseer_epoch_state']['deposit_rate'])\n",
    "current_apy = deposit_rate * blocks_per_year\n",
    "\n",
    "print('current_apy', current_apy * 100.0)"
   ],
   "metadata": {
    "collapsed": false,
    "pycharm": {
     "name": "#%%\n"
    }
   }
  }
 ],
 "metadata": {
  "kernelspec": {
   "display_name": "Python 3",
   "language": "python",
   "name": "python3"
  },
  "language_info": {
   "codemirror_mode": {
    "name": "ipython",
    "version": 2
   },
   "file_extension": ".py",
   "mimetype": "text/x-python",
   "name": "python",
   "nbconvert_exporter": "python",
   "pygments_lexer": "ipython2",
   "version": "2.7.6"
  }
 },
 "nbformat": 4,
 "nbformat_minor": 0
}