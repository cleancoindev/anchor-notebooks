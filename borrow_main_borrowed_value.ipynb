{
 "cells": [
  {
   "cell_type": "markdown",
   "metadata": {
    "collapsed": true,
    "pycharm": {
     "name": "#%% md\n"
    }
   },
   "source": [
    "# Borrowed Value"
   ]
  },
  {
   "cell_type": "code",
   "execution_count": 1,
   "outputs": [
    {
     "name": "stdout",
     "output_type": "stream",
     "text": [
      "{\n",
      "  \"market_borrower_info\": {\n",
      "    \"borrower\": \"terra12hnhh5vtyg5juqnzm43970nh4fw42pt27nw9g9\",\n",
      "    \"interest_index\": \"1.065745210774348442\",\n",
      "    \"loan_amount\": \"68792237\",\n",
      "    \"pending_rewards\": \"852838.042918797007884083\",\n",
      "    \"reward_index\": \"708.220901660891850597\"\n",
      "  }\n",
      "}\n"
     ]
    }
   ],
   "source": [
    "from mantle import mantle\n",
    "from env import *\n",
    "from json import dumps\n",
    "from ipynb.fs.defs.common_last_synced_height import last_synced_height\n",
    "\n",
    "def query_borrowed_value(wallet_addr: str):\n",
    "  block_height = last_synced_height()\n",
    "\n",
    "  return mantle(\n",
    "    wasm_query={\n",
    "      'market_borrower_info': {\n",
    "        'contractAddress': moneymarket_market_addr,\n",
    "        'query': {\n",
    "          'borrower_info': {\n",
    "            'borrower': wallet_addr,\n",
    "            'block_height': block_height\n",
    "          }\n",
    "        }\n",
    "      }\n",
    "    }\n",
    "  )\n",
    "\n",
    "print(dumps(query_borrowed_value('terra12hnhh5vtyg5juqnzm43970nh4fw42pt27nw9g9'), indent=2))"
   ],
   "metadata": {
    "collapsed": false,
    "pycharm": {
     "name": "#%%\n"
    }
   }
  },
  {
   "cell_type": "code",
   "execution_count": 3,
   "outputs": [
    {
     "name": "stdout",
     "output_type": "stream",
     "text": [
      "borrowed_value (in UST) 68.792251\n"
     ]
    }
   ],
   "source": [
    "result = query_borrowed_value('terra12hnhh5vtyg5juqnzm43970nh4fw42pt27nw9g9')\n",
    "\n",
    "print('borrowed_value (in UST)', int(result['market_borrower_info']['loan_amount']) / 1000000)"
   ],
   "metadata": {
    "collapsed": false,
    "pycharm": {
     "name": "#%%\n"
    }
   }
  }
 ],
 "metadata": {
  "kernelspec": {
   "display_name": "Python 3",
   "language": "python",
   "name": "python3"
  },
  "language_info": {
   "codemirror_mode": {
    "name": "ipython",
    "version": 2
   },
   "file_extension": ".py",
   "mimetype": "text/x-python",
   "name": "python",
   "nbconvert_exporter": "python",
   "pygments_lexer": "ipython2",
   "version": "2.7.6"
  }
 },
 "nbformat": 4,
 "nbformat_minor": 0
}