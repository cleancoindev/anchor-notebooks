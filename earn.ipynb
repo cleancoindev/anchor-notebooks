{
    "cells": [
        {
            "cell_type": "markdown",
            "source": [
                "# Total Deposit"
            ],
            "metadata": {}
        },
        {
            "cell_type": "code",
            "execution_count": 28,
            "source": [
                "from mantle import mantle\n",
                "from env import contract_address\n",
                "from queries.last_synced_height import last_synced_height\n",
                "from queries.native_token_balances import native_token_balances\n",
                "\n",
                "user_wallet_address = 'terra12hnhh5vtyg5juqnzm43970nh4fw42pt27nw9g9'\n",
                "\n",
                "block_height = last_synced_height()\n",
                "\n",
                "result = mantle(\n",
                "  wasm_query={\n",
                "    'aust_balance': {\n",
                "      'contractAddress': contract_address['cw20']['aUST'],\n",
                "      'query': {\n",
                "        'balance': {\n",
                "          'address': user_wallet_address\n",
                "        }\n",
                "      }\n",
                "    },\n",
                "    'money_market_epoch_state': {\n",
                "      'contractAddress': contract_address['moneyMarket']['market'],\n",
                "      'query': {\n",
                "        'epoch_state': {\n",
                "          'block_height': block_height\n",
                "        }\n",
                "      }\n",
                "    }\n",
                "  }\n",
                ")\n",
                "\n",
                "print(result)"
            ],
            "outputs": [
                {
                    "output_type": "stream",
                    "name": "stdout",
                    "text": [
                        "{'aust_balance': {'balance': '1577218936'}, 'money_market_epoch_state': {'aterra_supply': '36698977222737', 'exchange_rate': '1.082341011076397737'}}\n"
                    ]
                }
            ],
            "metadata": {}
        },
        {
            "cell_type": "code",
            "execution_count": 29,
            "source": [
                "uaust = float(result['aust_balance']['balance'])\n",
                "# exchange_rate is \n",
                "exchange_rate = float(result['money_market_epoch_state']['exchange_rate'])\n",
                "\n",
                "total_deposit = uaust * exchange_rate\n",
                "\n",
                "print('total_deposit (in UST)', total_deposit / 1000000.0)"
            ],
            "outputs": [
                {
                    "output_type": "stream",
                    "name": "stdout",
                    "text": [
                        "total_deposit (in UST) 1707.0887378790803\n"
                    ]
                }
            ],
            "metadata": {}
        },
        {
            "cell_type": "markdown",
            "source": [
                "# Current APY"
            ],
            "metadata": {}
        },
        {
            "cell_type": "code",
            "execution_count": 30,
            "source": [
                "result = mantle(\n",
                "  wasm_query={\n",
                "    'overseer_epoch_state': {\n",
                "      'contractAddress': contract_address['moneyMarket']['overseer'],\n",
                "      'query': {\n",
                "        'epoch_state': {}\n",
                "      }\n",
                "    }\n",
                "  }\n",
                ")\n",
                "\n",
                "print(result)"
            ],
            "outputs": [
                {
                    "output_type": "stream",
                    "name": "stdout",
                    "text": [
                        "{'overseer_epoch_state': {'deposit_rate': '0.000000041773925192', 'last_executed_height': 5155363, 'prev_aterra_supply': '36698977222737', 'prev_exchange_rate': '1.082340922662118974', 'prev_interest_buffer': '3524814309044'}}\n"
                    ]
                }
            ],
            "metadata": {}
        },
        {
            "cell_type": "code",
            "execution_count": 31,
            "source": [
                "blocks_per_year = 4656810.0 # constant\n",
                "deposit_rate = float(result['overseer_epoch_state']['deposit_rate'])\n",
                "\n",
                "current_apy = deposit_rate * blocks_per_year\n",
                "\n",
                "print('current_apy', current_apy * 100.0)"
            ],
            "outputs": [
                {
                    "output_type": "stream",
                    "name": "stdout",
                    "text": [
                        "current_apy 19.453323257335754\n"
                    ]
                }
            ],
            "metadata": {}
        },
        {
            "cell_type": "markdown",
            "source": [
                "# Interest (APY History line chart)\n",
                "\n",
                "TODO"
            ],
            "metadata": {}
        },
        {
            "cell_type": "markdown",
            "source": [
                "# Expected Interest\n",
                "\n",
                "TODO"
            ],
            "metadata": {}
        }
    ],
    "metadata": {
        "orig_nbformat": 4,
        "language_info": {
            "name": "python",
            "version": "3.9.6",
            "mimetype": "text/x-python",
            "codemirror_mode": {
                "name": "ipython",
                "version": 3
            },
            "pygments_lexer": "ipython3",
            "nbconvert_exporter": "python",
            "file_extension": ".py"
        },
        "kernelspec": {
            "name": "python3",
            "display_name": "Python 3.9.6 64-bit"
        },
        "interpreter": {
            "hash": "aee8b7b246df8f9039afb4144a1f6fd8d2ca17a180786b69acc140d282b71a49"
        }
    },
    "nbformat": 4,
    "nbformat_minor": 2
}