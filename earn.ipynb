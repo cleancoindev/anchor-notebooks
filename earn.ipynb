{
    "cells": [
        {
            "cell_type": "markdown",
            "source": [
                "# Total Deposit"
            ],
            "metadata": {}
        },
        {
            "cell_type": "code",
            "execution_count": 32,
            "source": [
                "from mantle import mantle\n",
                "from env import contract_address\n",
                "from queries.last_synced_height import last_synced_height\n",
                "from queries.native_token_balances import native_token_balances\n",
                "\n",
                "block_height = last_synced_height()\n",
                "balances = native_token_balances('terra12hnhh5vtyg5juqnzm43970nh4fw42pt27nw9g9')\n",
                "\n",
                "result = mantle(\n",
                "  wasm_query={\n",
                "    'money_market_epoch_state': {\n",
                "      'contractAddress': contract_address['moneyMarket']['market'],\n",
                "      'query': {\n",
                "        'epoch_state': {\n",
                "          'block_height': block_height\n",
                "        }\n",
                "      }\n",
                "    }\n",
                "  }\n",
                ")\n",
                "\n",
                "print(balances)\n",
                "print(result)"
            ],
            "outputs": [
                {
                    "output_type": "stream",
                    "name": "stdout",
                    "text": [
                        "{'uluna': '60642415', 'uusd': '4336036504'}\n",
                        "{'money_market_epoch_state': {'aterra_supply': '36688813726318', 'exchange_rate': '1.082291790984021353'}}\n"
                    ]
                }
            ],
            "metadata": {}
        },
        {
            "cell_type": "code",
            "execution_count": 33,
            "source": [
                "uusd = float(balances['uusd'])\n",
                "exchange_rate = float(result['money_market_epoch_state']['exchange_rate'])\n",
                "\n",
                "total_deposit = uusd * exchange_rate\n",
                "\n",
                "print('total_deposit', total_deposit)"
            ],
            "outputs": [
                {
                    "output_type": "stream",
                    "name": "stdout",
                    "text": [
                        "total_deposit 4692856713.6862545\n"
                    ]
                }
            ],
            "metadata": {}
        },
        {
            "cell_type": "markdown",
            "source": [
                "# Current APY"
            ],
            "metadata": {}
        },
        {
            "cell_type": "code",
            "execution_count": 34,
            "source": [
                "result = mantle(\n",
                "  wasm_query={\n",
                "    'overseer_epoch_state': {\n",
                "      'contractAddress': contract_address['moneyMarket']['overseer'],\n",
                "      'query': {\n",
                "        'epoch_state': {}\n",
                "      }\n",
                "    }\n",
                "  }\n",
                ")\n",
                "\n",
                "print(result)"
            ],
            "outputs": [
                {
                    "output_type": "stream",
                    "name": "stdout",
                    "text": [
                        "{'overseer_epoch_state': {'deposit_rate': '0.000000041773926791', 'last_executed_height': 5154274, 'prev_aterra_supply': '36688813726318', 'prev_exchange_rate': '1.082291687577958905', 'prev_interest_buffer': '3524849761406'}}\n"
                    ]
                }
            ],
            "metadata": {}
        },
        {
            "cell_type": "code",
            "execution_count": 35,
            "source": [
                "blocks_per_year = 4656810.0 # constant\n",
                "deposit_rate = float(result['overseer_epoch_state']['deposit_rate'])\n",
                "\n",
                "current_apy = deposit_rate * blocks_per_year\n",
                "\n",
                "print('current_apy', current_apy)"
            ],
            "outputs": [
                {
                    "output_type": "stream",
                    "name": "stdout",
                    "text": [
                        "current_apy 0.1945332400195967\n"
                    ]
                }
            ],
            "metadata": {}
        }
    ],
    "metadata": {
        "orig_nbformat": 4,
        "language_info": {
            "name": "python",
            "version": "3.9.6",
            "mimetype": "text/x-python",
            "codemirror_mode": {
                "name": "ipython",
                "version": 3
            },
            "pygments_lexer": "ipython3",
            "nbconvert_exporter": "python",
            "file_extension": ".py"
        },
        "kernelspec": {
            "name": "python3",
            "display_name": "Python 3.9.6 64-bit"
        },
        "interpreter": {
            "hash": "aee8b7b246df8f9039afb4144a1f6fd8d2ca17a180786b69acc140d282b71a49"
        }
    },
    "nbformat": 4,
    "nbformat_minor": 2
}