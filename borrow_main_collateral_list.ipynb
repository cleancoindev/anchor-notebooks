{
 "cells": [
  {
   "cell_type": "markdown",
   "metadata": {
    "collapsed": true,
    "pycharm": {
     "name": "#%% md\n"
    }
   },
   "source": []
  },
  {
   "cell_type": "code",
   "execution_count": 25,
   "outputs": [
    {
     "name": "stdout",
     "output_type": "stream",
     "text": [
      "{\n",
      "  \"market_borrower_info\": {\n",
      "    \"borrower\": \"terra12hnhh5vtyg5juqnzm43970nh4fw42pt27nw9g9\",\n",
      "    \"interest_index\": \"1.065749573609246711\",\n",
      "    \"loan_amount\": \"68792519\",\n",
      "    \"pending_rewards\": \"863932.585190313116911126\",\n",
      "    \"reward_index\": \"708.221073540025979306\"\n",
      "  },\n",
      "  \"oracle_prices\": {\n",
      "    \"Ok\": {\n",
      "      \"prices\": [\n",
      "        {\n",
      "          \"asset\": \"terra19mkj9nec6e3y5754tlnuz4vem7lzh4n0lc2s3l\",\n",
      "          \"last_updated_time\": 1629013143,\n",
      "          \"price\": \"3208.91586809\"\n",
      "        },\n",
      "        {\n",
      "          \"asset\": \"terra1u0t35drzyy0mujj8rkdyzhe264uls4ug3wdp3x\",\n",
      "          \"last_updated_time\": 1629013159,\n",
      "          \"price\": \"16.776045290335027136\"\n",
      "        }\n",
      "      ]\n",
      "    }\n",
      "  },\n",
      "  \"overseer_borrow_limit\": {\n",
      "    \"borrow_limit\": \"108426270\",\n",
      "    \"borrower\": \"terra12hnhh5vtyg5juqnzm43970nh4fw42pt27nw9g9\"\n",
      "  },\n",
      "  \"overseer_collaterals\": {\n",
      "    \"borrower\": \"terra12hnhh5vtyg5juqnzm43970nh4fw42pt27nw9g9\",\n",
      "    \"collaterals\": [\n",
      "      [\n",
      "        \"terra19mkj9nec6e3y5754tlnuz4vem7lzh4n0lc2s3l\",\n",
      "        \"11350\"\n",
      "      ],\n",
      "      [\n",
      "        \"terra1u0t35drzyy0mujj8rkdyzhe264uls4ug3wdp3x\",\n",
      "        \"8600910\"\n",
      "      ]\n",
      "    ]\n",
      "  },\n",
      "  \"overseer_whitelist\": {\n",
      "    \"elems\": [\n",
      "      {\n",
      "        \"collateral_token\": \"terra19mkj9nec6e3y5754tlnuz4vem7lzh4n0lc2s3l\",\n",
      "        \"custody_contract\": \"terra1j6fey5tl70k9fvrv7mea7ahfr8u2yv7l23w5e6\",\n",
      "        \"max_ltv\": \"0.6\",\n",
      "        \"name\": \"Bonded ETH\",\n",
      "        \"symbol\": \"BETH\"\n",
      "      },\n",
      "      {\n",
      "        \"collateral_token\": \"terra1u0t35drzyy0mujj8rkdyzhe264uls4ug3wdp3x\",\n",
      "        \"custody_contract\": \"terra1ltnkx0mv7lf2rca9f8w740ashu93ujughy4s7p\",\n",
      "        \"max_ltv\": \"0.6\",\n",
      "        \"name\": \"Bonded Luna\",\n",
      "        \"symbol\": \"BLUNA\"\n",
      "      }\n",
      "    ]\n",
      "  }\n",
      "}\n"
     ]
    }
   ],
   "source": [
    "from mantle import mantle\n",
    "from env import *\n",
    "from json import dumps\n",
    "from ipynb.fs.defs.common_last_synced_height import last_synced_height\n",
    "\n",
    "def query_collateral_list(wallet_addr: str):\n",
    "  block_height = last_synced_height()\n",
    "\n",
    "  return mantle(\n",
    "    wasm_query={\n",
    "      'overseer_whitelist': {\n",
    "        'contractAddress': moneymarket_overseer_addr,\n",
    "        'query': {\n",
    "          'whitelist': {}\n",
    "        }\n",
    "      },\n",
    "      'oracle_prices': {\n",
    "        'contractAddress': moneymarket_oracle_addr,\n",
    "        'query': {\n",
    "          'prices': {}\n",
    "        }\n",
    "      },\n",
    "      'market_borrower_info': {\n",
    "        'contractAddress': moneymarket_market_addr,\n",
    "        'query': {\n",
    "          'borrower_info': {\n",
    "            'borrower': wallet_addr,\n",
    "            'block_height': block_height\n",
    "          }\n",
    "        }\n",
    "      },\n",
    "      'overseer_collaterals': {\n",
    "        'contractAddress': moneymarket_overseer_addr,\n",
    "        'query': {\n",
    "          'collaterals': {\n",
    "            'borrower': wallet_addr\n",
    "          }\n",
    "        }\n",
    "      },\n",
    "      'overseer_borrow_limit': {\n",
    "        'contractAddress': moneymarket_overseer_addr,\n",
    "        'query': {\n",
    "          'borrow_limit': {\n",
    "            'borrower': wallet_addr,\n",
    "            'block_height': block_height\n",
    "          }\n",
    "        }\n",
    "      }\n",
    "    }\n",
    "  )\n",
    "\n",
    "print(dumps(query_collateral_list('terra12hnhh5vtyg5juqnzm43970nh4fw42pt27nw9g9'), indent=2))"
   ],
   "metadata": {
    "collapsed": false,
    "pycharm": {
     "name": "#%%\n"
    }
   }
  },
  {
   "cell_type": "code",
   "execution_count": 29,
   "outputs": [
    {
     "name": "stdout",
     "output_type": "stream",
     "text": [
      "symbol BETH\n",
      "name Bonded ETH\n",
      "token_addr terra19mkj9nec6e3y5754tlnuz4vem7lzh4n0lc2s3l\n",
      "price (in UST) 3208.91586809\n",
      "provided 0.01135\n",
      "provided (in UST) 36.4211951028215\n",
      "\n",
      "symbol BLUNA\n",
      "name Bonded Luna\n",
      "token_addr terra1u0t35drzyy0mujj8rkdyzhe264uls4ug3wdp3x\n",
      "price (in UST) 16.721120313049809825\n",
      "provided 8.60091\n",
      "provided (in UST) 143.81685091171323\n",
      "\n"
     ]
    }
   ],
   "source": [
    "result = query_collateral_list('terra12hnhh5vtyg5juqnzm43970nh4fw42pt27nw9g9')\n",
    "\n",
    "if result['oracle_prices']['Ok'] is not None:\n",
    "  oracle_prices = result['oracle_prices']['Ok']['prices']\n",
    "else:\n",
    "  oracle_prices = result['oracle_prices']['prices']\n",
    "\n",
    "whiltelist_elems = result['overseer_whitelist']['elems']\n",
    "user_collaterals = result['overseer_collaterals']['collaterals']\n",
    "loan_amount = int(result['market_borrower_info']['loan_amount'])\n",
    "\n",
    "for whitelist in whiltelist_elems:\n",
    "  token_addr = whitelist['collateral_token']\n",
    "  price = next((item for item in oracle_prices if item['asset'] == token_addr), None)\n",
    "  locked_amount = next((item for item in user_collaterals if item[0] == token_addr), None)\n",
    "\n",
    "  print('symbol', whitelist['symbol'])\n",
    "  print('name', whitelist['name'])\n",
    "  print('token_addr', token_addr)\n",
    "  print('price (in UST)', price['price'])\n",
    "  print('provided', int(locked_amount[1]) / 1000000)\n",
    "  print('provided (in UST)', int(locked_amount[1]) * float(price['price']) / 1000000)\n",
    "\n",
    "  # only possible calculate the liquidation_price when the collateral have 1\n",
    "  if len(user_collaterals) == 1:\n",
    "    collateral = next((item for item in user_collaterals if item[0] == token_addr), None)\n",
    "    max_ltv = float(whitelist['max_ltv'])\n",
    "    liquidation_price = loan_amount / int(collateral[1]) * max_ltv\n",
    "    print('max_ltv', max_ltv)\n",
    "    print('liquidation_price', liquidation_price)\n",
    "\n",
    "  print('')"
   ],
   "metadata": {
    "collapsed": false,
    "pycharm": {
     "name": "#%%\n"
    }
   }
  }
 ],
 "metadata": {
  "kernelspec": {
   "display_name": "Python 3",
   "language": "python",
   "name": "python3"
  },
  "language_info": {
   "codemirror_mode": {
    "name": "ipython",
    "version": 2
   },
   "file_extension": ".py",
   "mimetype": "text/x-python",
   "name": "python",
   "nbconvert_exporter": "python",
   "pygments_lexer": "ipython2",
   "version": "2.7.6"
  }
 },
 "nbformat": 4,
 "nbformat_minor": 0
}